{
 "cells": [
  {
   "cell_type": "markdown",
   "metadata": {},
   "source": [
    "# Recommendations with IBM\n",
    "\n",
    "In this notebook, you will be putting your recommendation skills to use on real data from the IBM Watson Studio platform. \n",
    "\n",
    "\n",
    "You may either submit your notebook through the workspace here, or you may work from your local machine and submit through the next page.  Either way assure that your code passes the project [RUBRIC](https://review.udacity.com/#!/rubrics/3325/view).  **Please save regularly.**\n",
    "\n",
    "By following the table of contents, you will build out a number of different methods for making recommendations that can be used for different situations. \n",
    "\n",
    "\n",
    "## Table of Contents\n",
    "\n",
    "I. [Exploratory Data Analysis](#Exploratory-Data-Analysis)<br>\n",
    "II. [Rank Based Recommendations](#Rank)<br>\n",
    "III. [User-User Based Collaborative Filtering](#User-User)<br>\n",
    "IV. [Content Based Recommendations (EXTRA - NOT REQUIRED)](#Content-Recs)<br>\n",
    "V. [Matrix Factorization](#Matrix-Fact)<br>\n",
    "VI. [Extras & Concluding](#conclusions)\n",
    "\n",
    "At the end of the notebook, you will find directions for how to submit your work.  Let's get started by importing the necessary libraries and reading in the data."
   ]
  },
  {
   "cell_type": "markdown",
   "metadata": {},
   "source": [
    "### Import Libraries and Read Data\n",
    "\n",
    "Imports several libraries commonly used for data analysis, visualization, and reads two CSV files called `df` and `df_content`."
   ]
  },
  {
   "cell_type": "code",
   "execution_count": 1,
   "metadata": {},
   "outputs": [
    {
     "data": {
      "text/html": [
       "<div>\n",
       "<style scoped>\n",
       "    .dataframe tbody tr th:only-of-type {\n",
       "        vertical-align: middle;\n",
       "    }\n",
       "\n",
       "    .dataframe tbody tr th {\n",
       "        vertical-align: top;\n",
       "    }\n",
       "\n",
       "    .dataframe thead th {\n",
       "        text-align: right;\n",
       "    }\n",
       "</style>\n",
       "<table border=\"1\" class=\"dataframe\">\n",
       "  <thead>\n",
       "    <tr style=\"text-align: right;\">\n",
       "      <th></th>\n",
       "      <th>article_id</th>\n",
       "      <th>title</th>\n",
       "      <th>email</th>\n",
       "    </tr>\n",
       "  </thead>\n",
       "  <tbody>\n",
       "    <tr>\n",
       "      <th>0</th>\n",
       "      <td>1430.0</td>\n",
       "      <td>using pixiedust for fast, flexible, and easier...</td>\n",
       "      <td>ef5f11f77ba020cd36e1105a00ab868bbdbf7fe7</td>\n",
       "    </tr>\n",
       "    <tr>\n",
       "      <th>1</th>\n",
       "      <td>1314.0</td>\n",
       "      <td>healthcare python streaming application demo</td>\n",
       "      <td>083cbdfa93c8444beaa4c5f5e0f5f9198e4f9e0b</td>\n",
       "    </tr>\n",
       "    <tr>\n",
       "      <th>2</th>\n",
       "      <td>1429.0</td>\n",
       "      <td>use deep learning for image classification</td>\n",
       "      <td>b96a4f2e92d8572034b1e9b28f9ac673765cd074</td>\n",
       "    </tr>\n",
       "    <tr>\n",
       "      <th>3</th>\n",
       "      <td>1338.0</td>\n",
       "      <td>ml optimization using cognitive assistant</td>\n",
       "      <td>06485706b34a5c9bf2a0ecdac41daf7e7654ceb7</td>\n",
       "    </tr>\n",
       "    <tr>\n",
       "      <th>4</th>\n",
       "      <td>1276.0</td>\n",
       "      <td>deploy your python model as a restful api</td>\n",
       "      <td>f01220c46fc92c6e6b161b1849de11faacd7ccb2</td>\n",
       "    </tr>\n",
       "  </tbody>\n",
       "</table>\n",
       "</div>"
      ],
      "text/plain": [
       "   article_id                                              title  \\\n",
       "0      1430.0  using pixiedust for fast, flexible, and easier...   \n",
       "1      1314.0       healthcare python streaming application demo   \n",
       "2      1429.0         use deep learning for image classification   \n",
       "3      1338.0          ml optimization using cognitive assistant   \n",
       "4      1276.0          deploy your python model as a restful api   \n",
       "\n",
       "                                      email  \n",
       "0  ef5f11f77ba020cd36e1105a00ab868bbdbf7fe7  \n",
       "1  083cbdfa93c8444beaa4c5f5e0f5f9198e4f9e0b  \n",
       "2  b96a4f2e92d8572034b1e9b28f9ac673765cd074  \n",
       "3  06485706b34a5c9bf2a0ecdac41daf7e7654ceb7  \n",
       "4  f01220c46fc92c6e6b161b1849de11faacd7ccb2  "
      ]
     },
     "execution_count": 1,
     "metadata": {},
     "output_type": "execute_result"
    }
   ],
   "source": [
    "import pandas as pd\n",
    "import numpy as np\n",
    "import matplotlib.pyplot as plt\n",
    "import project_tests as t\n",
    "import pickle\n",
    "\n",
    "%matplotlib inline\n",
    "\n",
    "df = pd.read_csv('data/user-item-interactions.csv')\n",
    "df_content = pd.read_csv('data/articles_community.csv')\n",
    "del df['Unnamed: 0']\n",
    "del df_content['Unnamed: 0']\n",
    "\n",
    "# Show df to get an idea of the data\n",
    "df.head()\n"
   ]
  },
  {
   "cell_type": "code",
   "execution_count": 2,
   "metadata": {},
   "outputs": [
    {
     "data": {
      "text/html": [
       "<div>\n",
       "<style scoped>\n",
       "    .dataframe tbody tr th:only-of-type {\n",
       "        vertical-align: middle;\n",
       "    }\n",
       "\n",
       "    .dataframe tbody tr th {\n",
       "        vertical-align: top;\n",
       "    }\n",
       "\n",
       "    .dataframe thead th {\n",
       "        text-align: right;\n",
       "    }\n",
       "</style>\n",
       "<table border=\"1\" class=\"dataframe\">\n",
       "  <thead>\n",
       "    <tr style=\"text-align: right;\">\n",
       "      <th></th>\n",
       "      <th>doc_body</th>\n",
       "      <th>doc_description</th>\n",
       "      <th>doc_full_name</th>\n",
       "      <th>doc_status</th>\n",
       "      <th>article_id</th>\n",
       "    </tr>\n",
       "  </thead>\n",
       "  <tbody>\n",
       "    <tr>\n",
       "      <th>0</th>\n",
       "      <td>Skip navigation Sign in SearchLoading...\\r\\n\\r...</td>\n",
       "      <td>Detect bad readings in real time using Python ...</td>\n",
       "      <td>Detect Malfunctioning IoT Sensors with Streami...</td>\n",
       "      <td>Live</td>\n",
       "      <td>0</td>\n",
       "    </tr>\n",
       "    <tr>\n",
       "      <th>1</th>\n",
       "      <td>No Free Hunch Navigation * kaggle.com\\r\\n\\r\\n ...</td>\n",
       "      <td>See the forest, see the trees. Here lies the c...</td>\n",
       "      <td>Communicating data science: A guide to present...</td>\n",
       "      <td>Live</td>\n",
       "      <td>1</td>\n",
       "    </tr>\n",
       "    <tr>\n",
       "      <th>2</th>\n",
       "      <td>☰ * Login\\r\\n * Sign Up\\r\\n\\r\\n * Learning Pat...</td>\n",
       "      <td>Here’s this week’s news in Data Science and Bi...</td>\n",
       "      <td>This Week in Data Science (April 18, 2017)</td>\n",
       "      <td>Live</td>\n",
       "      <td>2</td>\n",
       "    </tr>\n",
       "    <tr>\n",
       "      <th>3</th>\n",
       "      <td>DATALAYER: HIGH THROUGHPUT, LOW LATENCY AT SCA...</td>\n",
       "      <td>Learn how distributed DBs solve the problem of...</td>\n",
       "      <td>DataLayer Conference: Boost the performance of...</td>\n",
       "      <td>Live</td>\n",
       "      <td>3</td>\n",
       "    </tr>\n",
       "    <tr>\n",
       "      <th>4</th>\n",
       "      <td>Skip navigation Sign in SearchLoading...\\r\\n\\r...</td>\n",
       "      <td>This video demonstrates the power of IBM DataS...</td>\n",
       "      <td>Analyze NY Restaurant data using Spark in DSX</td>\n",
       "      <td>Live</td>\n",
       "      <td>4</td>\n",
       "    </tr>\n",
       "  </tbody>\n",
       "</table>\n",
       "</div>"
      ],
      "text/plain": [
       "                                            doc_body  \\\n",
       "0  Skip navigation Sign in SearchLoading...\\r\\n\\r...   \n",
       "1  No Free Hunch Navigation * kaggle.com\\r\\n\\r\\n ...   \n",
       "2  ☰ * Login\\r\\n * Sign Up\\r\\n\\r\\n * Learning Pat...   \n",
       "3  DATALAYER: HIGH THROUGHPUT, LOW LATENCY AT SCA...   \n",
       "4  Skip navigation Sign in SearchLoading...\\r\\n\\r...   \n",
       "\n",
       "                                     doc_description  \\\n",
       "0  Detect bad readings in real time using Python ...   \n",
       "1  See the forest, see the trees. Here lies the c...   \n",
       "2  Here’s this week’s news in Data Science and Bi...   \n",
       "3  Learn how distributed DBs solve the problem of...   \n",
       "4  This video demonstrates the power of IBM DataS...   \n",
       "\n",
       "                                       doc_full_name doc_status  article_id  \n",
       "0  Detect Malfunctioning IoT Sensors with Streami...       Live           0  \n",
       "1  Communicating data science: A guide to present...       Live           1  \n",
       "2         This Week in Data Science (April 18, 2017)       Live           2  \n",
       "3  DataLayer Conference: Boost the performance of...       Live           3  \n",
       "4      Analyze NY Restaurant data using Spark in DSX       Live           4  "
      ]
     },
     "execution_count": 2,
     "metadata": {},
     "output_type": "execute_result"
    }
   ],
   "source": [
    "# Show df_content to get an idea of the data\n",
    "df_content.head()"
   ]
  },
  {
   "cell_type": "code",
   "execution_count": 3,
   "metadata": {},
   "outputs": [
    {
     "name": "stdout",
     "output_type": "stream",
     "text": [
      "Index(['article_id', 'title', 'email'], dtype='object')\n",
      "Index(['doc_body', 'doc_description', 'doc_full_name', 'doc_status',\n",
      "       'article_id'],\n",
      "      dtype='object')\n"
     ]
    }
   ],
   "source": [
    "print(df.columns)\n",
    "print(df_content.columns)"
   ]
  },
  {
   "cell_type": "markdown",
   "metadata": {},
   "source": [
    "### <a class=\"anchor\" id=\"Exploratory-Data-Analysis\">Part I : Exploratory Data Analysis</a>\n",
    "\n",
    "Use the dictionary and cells below to provide some insight into the descriptive statistics of the data.\n",
    "\n",
    "`1.` What is the distribution of how many articles a user interacts with in the dataset?  Provide a visual and descriptive statistics to assist with giving a look at the number of times each user interacts with an article.  "
   ]
  },
  {
   "cell_type": "markdown",
   "metadata": {},
   "source": [
    "Count the number of interactions per user"
   ]
  },
  {
   "cell_type": "code",
   "execution_count": 4,
   "metadata": {},
   "outputs": [
    {
     "name": "stdout",
     "output_type": "stream",
     "text": [
      "email\n",
      "0000b6387a0366322d7fbfc6434af145adf7fed1    13\n",
      "001055fc0bb67f71e8fa17002342b256a30254cd     4\n",
      "00148e4911c7e04eeff8def7bbbdaf1c59c2c621     3\n",
      "001a852ecbd6cc12ab77a785efa137b2646505fe     6\n",
      "001fc95b90da5c3cb12c501d201a915e4f093290     2\n",
      "0042719415c4fca7d30bd2d4e9d17c5fc570de13     2\n",
      "00772abe2d0b269b2336fc27f0f4d7cb1d2b65d7     3\n",
      "008ba1d5b4ebf54babf516a2d5aa43e184865da5    10\n",
      "008ca24b82c41d513b3799d09ae276d37f92ce72     1\n",
      "008dfc7a327b5186244caec48e0ab61610a0c660    13\n",
      "009af4e0537378bf8e8caf0ad0e2994f954d822e     1\n",
      "00bda305223d05f6df5d77de41abd2a0c7d895fe     4\n",
      "00c2d5190e8c6b821b0e3848bf56f6e47e428994     3\n",
      "00ced21f957bbcee5edf7b107b2bd05628b04774     4\n",
      "00d9337ecd5f70fba1c4c7a78e21b3532e0112c4     3\n",
      "00e524e4f13137a6fac54f9c71d7769c6507ecde    11\n",
      "00f8341cbecd6af00ba8c78b3bb6ec49adf83248     3\n",
      "00f946b14100f0605fa25089437ee9486378872c     1\n",
      "01041260c97ab9221d923b0a2c525437f148d589     2\n",
      "0108ce3220657a9a89a85bdec959b0f2976dd51c     4\n",
      "011455e91a24c1fb815a4deac6b6eaf5ad16819e     9\n",
      "01198c58d684d79c9026abe355cfb532cb524dc5     1\n",
      "011ae4de07ffb332b0f51c155a35c23c80294962    35\n",
      "011fcfb582be9534e9a275336f7e7c3717100381    11\n",
      "0129dfcdb701b6e1d309934be6393004c6683a2d    15\n",
      "01327bbc4fd7bfe8ad62e599453d2876b928e725     3\n",
      "01455f0ab0a5a22a93d94ad35f6e78431aa90625     7\n",
      "014dedab269f1453c647598c92a3fa37b39eed97     2\n",
      "014e4fe6e6c5eb3fe5ca0b16c16fb4599df6375c     1\n",
      "01560f88312a91894d254e6406c25df19f0ad5e8    11\n",
      "                                            ..\n",
      "fe5396e3762c36767c9c915f7ed1731691d7e4b4     1\n",
      "fe5480ff15f0ac51eeb2314a192351f168d7aad7     1\n",
      "fe56a49b62752708ed2f6e30677c57881f7b78d1    15\n",
      "fe5885b80e91be887510a0b6dd04e011178d6364     3\n",
      "fe5f9d7528518e00b0a73c7a3994afc335496961     3\n",
      "fe66aa534c7824eca663b84b99a437a98a9b026e     2\n",
      "fe69c72c964a8346dbc7763309c4e07d818d360f     4\n",
      "fe88d1f683f308b32fb3d7554f007cc55cc48df5     1\n",
      "fe8c1cb974e39d8ea8c005044e927b3f0de8acd0     3\n",
      "fe90d98b0287090fe8e653bafba6ed3eff19331e     1\n",
      "fe9327be39fd457df70e83d3fc8cba9b8b3f95b1     1\n",
      "feaea388105a4ccc48795b191bbf0c26a23b1356     4\n",
      "fef0c6be3a2ed226e1fb8a811b0ee68a389f6f3c    13\n",
      "fef28e45f7217026b2684d1783a2e18b061bdffb     3\n",
      "fef3bc88def1aa787c99957ded7d5b2c0edc040e     4\n",
      "ff27ffd93e21154b8a9cf2722f2cc0f75dc39eff     1\n",
      "ff288722b76eba5209cdbf9158c6dfbf229b9129     1\n",
      "ff452614b91f4c9bd965150b1a82e7bf18f59334     2\n",
      "ff4d3e1c359cfbb73bcae07fa1eb62c45da2b161     3\n",
      "ff55d0c0b2a4f56aae87c2a21afb7070ab34383d     1\n",
      "ff6e82c763fe2443643e48a03e239eb635f406dc    14\n",
      "ff7a0f59ba022102ad22981141a7182c4d8273c3     7\n",
      "ff833869969184d86f870f98405e7988eccc2309     9\n",
      "ff979e07f9d906a32ba35a9b75fd9585f6306dbc    38\n",
      "ffaefa3a1bc2d074d9a14c9924d4e67a46c35410     1\n",
      "ffc6cfa435937ca0df967b44e9178439d04e3537     2\n",
      "ffc96f8fbb35aac4cb0029332b0fc78e7766bb5d     4\n",
      "ffe3d0543c9046d35c2ee3724ea9d774dff98a32    32\n",
      "fff9fc3ec67bd18ed57a34ed1e67410942c4cd81    10\n",
      "fffb93a166547448a0ff0232558118d59395fecd    13\n",
      "Name: article_id, Length: 5148, dtype: int64\n"
     ]
    }
   ],
   "source": [
    "# Count the number of interactions per user\n",
    "user_interaction_counts = df.groupby('email')['article_id'].count()\n",
    "print(user_interaction_counts)"
   ]
  },
  {
   "cell_type": "markdown",
   "metadata": {},
   "source": [
    "Visualize the distribution with a histogram"
   ]
  },
  {
   "cell_type": "code",
   "execution_count": 5,
   "metadata": {},
   "outputs": [
    {
     "data": {
      "image/png": "[encoded data removed]",
      "text/plain": [
       "<matplotlib.figure.Figure at 0x7f75409badd8>"
      ]
     },
     "metadata": {
      "needs_background": "light"
     },
     "output_type": "display_data"
    }
   ],
   "source": [
    "# Visualize the distribution with a histogram\n",
    "plt.figure(figsize=(10, 6))\n",
    "plt.hist(user_interaction_counts, bins=30, edgecolor='k')\n",
    "plt.xlabel('Number of Article Interactions')\n",
    "plt.ylabel('Count')\n",
    "plt.title('Distribution of User Article Interactions')\n",
    "plt.show()"
   ]
  },
  {
   "cell_type": "markdown",
   "metadata": {},
   "source": [
    "Calculate median number of articles interacted by users, also maximum number of user-article interactions."
   ]
  },
  {
   "cell_type": "code",
   "execution_count": 6,
   "metadata": {},
   "outputs": [
    {
     "name": "stdout",
     "output_type": "stream",
     "text": [
      "50% of individuals interact with 3.0 number of articles or fewer.\n",
      "The maximum number of user-article interactions by any 1 user is 364.\n"
     ]
    }
   ],
   "source": [
    "# Calculate median number of articles interacted by users\n",
    "median_val = user_interaction_counts.median()\n",
    "print(f\"50% of individuals interact with {median_val} number of articles or fewer.\")\n",
    "\n",
    "# Calculate maximum number of user-article interactions\n",
    "max_views_by_user = user_interaction_counts.max()\n",
    "print(f\"The maximum number of user-article interactions by any 1 user is {max_views_by_user}.\")"
   ]
  },
  {
   "cell_type": "markdown",
   "metadata": {},
   "source": [
    "`2.` Explore and remove duplicate articles from the **df_content** dataframe.  "
   ]
  },
  {
   "cell_type": "markdown",
   "metadata": {},
   "source": [
    "Find duplicate articles based on article ID and explore it."
   ]
  },
  {
   "cell_type": "code",
   "execution_count": 7,
   "metadata": {},
   "outputs": [
    {
     "name": "stdout",
     "output_type": "stream",
     "text": [
      "Duplicate Articles:\n",
      "                                              doc_body  \\\n",
      "50   Follow Sign in / Sign up Home About Insight Da...   \n",
      "221  * United States\\r\\n\\r\\nIBM® * Site map\\r\\n\\r\\n...   \n",
      "232  Homepage Follow Sign in Get started Homepage *...   \n",
      "365  Follow Sign in / Sign up Home About Insight Da...   \n",
      "399  Homepage Follow Sign in Get started * Home\\r\\n...   \n",
      "578  This video shows you how to construct queries ...   \n",
      "692  Homepage Follow Sign in / Sign up Homepage * H...   \n",
      "761  Homepage Follow Sign in Get started Homepage *...   \n",
      "970  This video shows you how to construct queries ...   \n",
      "971  Homepage Follow Sign in Get started * Home\\r\\n...   \n",
      "\n",
      "                                       doc_description  \\\n",
      "50                        Community Detection at Scale   \n",
      "221  When used to make sense of huge amounts of con...   \n",
      "232  If you are like most data scientists, you are ...   \n",
      "365  During the seven-week Insight Data Engineering...   \n",
      "399  Today’s world of data science leverages data f...   \n",
      "578  This video shows you how to construct queries ...   \n",
      "692  One of the earliest documented catalogs was co...   \n",
      "761  Today’s world of data science leverages data f...   \n",
      "970  This video shows you how to construct queries ...   \n",
      "971  If you are like most data scientists, you are ...   \n",
      "\n",
      "                                         doc_full_name doc_status  article_id  \n",
      "50                        Graph-based machine learning       Live          50  \n",
      "221  How smart catalogs can turn the big data flood...       Live         221  \n",
      "232  Self-service data preparation with IBM Data Re...       Live         232  \n",
      "365                       Graph-based machine learning       Live          50  \n",
      "399  Using Apache Spark as a parallel processing fr...       Live         398  \n",
      "578                              Use the Primary Index       Live         577  \n",
      "692  How smart catalogs can turn the big data flood...       Live         221  \n",
      "761  Using Apache Spark as a parallel processing fr...       Live         398  \n",
      "970                              Use the Primary Index       Live         577  \n",
      "971  Self-service data preparation with IBM Data Re...       Live         232  \n"
     ]
    }
   ],
   "source": [
    "# Find duplicate articles based on article ID and explore it\n",
    "duplicate_articles = df_content[df_content.duplicated(subset='article_id', keep=False)]\n",
    "\n",
    "print(\"Duplicate Articles:\")\n",
    "print(duplicate_articles)"
   ]
  },
  {
   "cell_type": "markdown",
   "metadata": {},
   "source": [
    "Check the number of occurrences for each duplicate article."
   ]
  },
  {
   "cell_type": "code",
   "execution_count": 8,
   "metadata": {},
   "outputs": [
    {
     "name": "stdout",
     "output_type": "stream",
     "text": [
      "\n",
      "Number of Occurrences for Each Duplicate Article:\n",
      "398    2\n",
      "221    2\n",
      "232    2\n",
      "50     2\n",
      "577    2\n",
      "Name: article_id, dtype: int64\n"
     ]
    }
   ],
   "source": [
    "# Check the number of occurrences for each duplicate article\n",
    "duplicate_counts = duplicate_articles['article_id'].value_counts()\n",
    "print(\"\\nNumber of Occurrences for Each Duplicate Article:\")\n",
    "print(duplicate_counts)"
   ]
  },
  {
   "cell_type": "markdown",
   "metadata": {},
   "source": [
    "Remove any rows that have the same article_id - only keep the first."
   ]
  },
  {
   "cell_type": "code",
   "execution_count": 9,
   "metadata": {},
   "outputs": [
    {
     "name": "stdout",
     "output_type": "stream",
     "text": [
      "Number of rows after removing duplicates: 1051\n"
     ]
    }
   ],
   "source": [
    "# Remove duplicate rows based on article_id, keeping only the first occurrence\n",
    "df_content_unique = df_content.drop_duplicates(subset='article_id', keep='first')\n",
    "\n",
    "# Verify the result by checking the number of rows\n",
    "print(\"Number of rows after removing duplicates:\", len(df_content_unique))"
   ]
  },
  {
   "cell_type": "markdown",
   "metadata": {},
   "source": [
    "`3.` Use the cells below to find:\n",
    "\n",
    "**a.** The number of unique articles that have an interaction with a user.  \n",
    "**b.** The number of unique articles in the dataset (whether they have any interactions or not).<br>\n",
    "**c.** The number of unique users in the dataset. (excluding null values) <br>\n",
    "**d.** The number of user-article interactions in the dataset."
   ]
  },
  {
   "cell_type": "markdown",
   "metadata": {
    "collapsed": true
   },
   "source": [
    "To calculate the number of unique articles that have at least one interaction, the number of unique articles on the IBM platform, the number of unique users, and the total number of user-article interactions, we can use the following code:"
   ]
  },
  {
   "cell_type": "code",
   "execution_count": 10,
   "metadata": {},
   "outputs": [
    {
     "name": "stdout",
     "output_type": "stream",
     "text": [
      "Number of unique articles with at least one interaction: 714\n",
      "Number of unique articles on the IBM platform: 1051\n",
      "Number of unique users: 5149\n",
      "Number of user-article interactions: 45993\n"
     ]
    }
   ],
   "source": [
    "# The number of unique articles that have at least one interaction\n",
    "unique_articles = len(df['article_id'].unique())\n",
    "\n",
    "# The number of unique articles on the IBM platform\n",
    "total_articles = len(df_content['article_id'].unique())\n",
    "\n",
    "# The number of unique users\n",
    "unique_users = len(df['email'].unique())\n",
    "\n",
    "# The number of user-article interactions\n",
    "user_article_interactions = len(df)\n",
    "\n",
    "# Print the results\n",
    "print(\"Number of unique articles with at least one interaction:\", unique_articles)\n",
    "print(\"Number of unique articles on the IBM platform:\", total_articles)\n",
    "print(\"Number of unique users:\", unique_users)\n",
    "print(\"Number of user-article interactions:\", user_article_interactions)"
   ]
  },
  {
   "cell_type": "markdown",
   "metadata": {},
   "source": [
    "`4.` Use the cells below to find the most viewed **article_id**, as well as how often it was viewed.  After talking to the company leaders, the `email_mapper` function was deemed a reasonable way to map users to ids.  There were a small number of null values, and it was found that all of these null values likely belonged to a single user (which is how they are stored using the function below)."
   ]
  },
  {
   "cell_type": "markdown",
   "metadata": {
    "collapsed": true
   },
   "source": [
    "Find the most viewed article in the dataset and the number of times it was viewed"
   ]
  },
  {
   "cell_type": "code",
   "execution_count": 11,
   "metadata": {},
   "outputs": [
    {
     "name": "stdout",
     "output_type": "stream",
     "text": [
      "Most viewed article ID: 1429.0\n",
      "Number of views for the most viewed article: 937\n"
     ]
    }
   ],
   "source": [
    "# The most viewed article in the dataset\n",
    "most_viewed_article_id = str(df['article_id'].value_counts().idxmax())\n",
    "\n",
    "# The number of times the most viewed article was viewed\n",
    "max_views = df['article_id'].value_counts().max()\n",
    "\n",
    "# Print the results\n",
    "print(\"Most viewed article ID:\", most_viewed_article_id)\n",
    "print(\"Number of views for the most viewed article:\", max_views)"
   ]
  },
  {
   "cell_type": "code",
   "execution_count": 12,
   "metadata": {},
   "outputs": [
    {
     "data": {
      "text/html": [
       "<div>\n",
       "<style scoped>\n",
       "    .dataframe tbody tr th:only-of-type {\n",
       "        vertical-align: middle;\n",
       "    }\n",
       "\n",
       "    .dataframe tbody tr th {\n",
       "        vertical-align: top;\n",
       "    }\n",
       "\n",
       "    .dataframe thead th {\n",
       "        text-align: right;\n",
       "    }\n",
       "</style>\n",
       "<table border=\"1\" class=\"dataframe\">\n",
       "  <thead>\n",
       "    <tr style=\"text-align: right;\">\n",
       "      <th></th>\n",
       "      <th>article_id</th>\n",
       "      <th>title</th>\n",
       "      <th>user_id</th>\n",
       "    </tr>\n",
       "  </thead>\n",
       "  <tbody>\n",
       "    <tr>\n",
       "      <th>0</th>\n",
       "      <td>1430.0</td>\n",
       "      <td>using pixiedust for fast, flexible, and easier...</td>\n",
       "      <td>1</td>\n",
       "    </tr>\n",
       "    <tr>\n",
       "      <th>1</th>\n",
       "      <td>1314.0</td>\n",
       "      <td>healthcare python streaming application demo</td>\n",
       "      <td>2</td>\n",
       "    </tr>\n",
       "    <tr>\n",
       "      <th>2</th>\n",
       "      <td>1429.0</td>\n",
       "      <td>use deep learning for image classification</td>\n",
       "      <td>3</td>\n",
       "    </tr>\n",
       "    <tr>\n",
       "      <th>3</th>\n",
       "      <td>1338.0</td>\n",
       "      <td>ml optimization using cognitive assistant</td>\n",
       "      <td>4</td>\n",
       "    </tr>\n",
       "    <tr>\n",
       "      <th>4</th>\n",
       "      <td>1276.0</td>\n",
       "      <td>deploy your python model as a restful api</td>\n",
       "      <td>5</td>\n",
       "    </tr>\n",
       "  </tbody>\n",
       "</table>\n",
       "</div>"
      ],
      "text/plain": [
       "   article_id                                              title  user_id\n",
       "0      1430.0  using pixiedust for fast, flexible, and easier...        1\n",
       "1      1314.0       healthcare python streaming application demo        2\n",
       "2      1429.0         use deep learning for image classification        3\n",
       "3      1338.0          ml optimization using cognitive assistant        4\n",
       "4      1276.0          deploy your python model as a restful api        5"
      ]
     },
     "execution_count": 12,
     "metadata": {},
     "output_type": "execute_result"
    }
   ],
   "source": [
    "## No need to change the code here - this will be helpful for later parts of the notebook\n",
    "# Run this cell to map the user email to a user_id column and remove the email column\n",
    "def email_mapper():\n",
    "    coded_dict = dict()\n",
    "    cter = 1\n",
    "    email_encoded = []\n",
    "    \n",
    "    for val in df['email']:\n",
    "        if val not in coded_dict:\n",
    "            coded_dict[val] = cter\n",
    "            cter+=1\n",
    "        \n",
    "        email_encoded.append(coded_dict[val])\n",
    "    return email_encoded\n",
    "\n",
    "email_encoded = email_mapper()\n",
    "del df['email']\n",
    "df['user_id'] = email_encoded\n",
    "\n",
    "# Show header\n",
    "df.head()"
   ]
  },
  {
   "cell_type": "code",
   "execution_count": 13,
   "metadata": {},
   "outputs": [
    {
     "name": "stdout",
     "output_type": "stream",
     "text": [
      "It looks like you have everything right here! Nice job!\n"
     ]
    }
   ],
   "source": [
    "## If you stored all your results in the variable names above, \n",
    "## You shouldn't need to change anything in this cell\n",
    "sol_1_dict = {\n",
    "    '`50% of individuals have _____ or fewer interactions.`': median_val,\n",
    "    '`The total number of user-article interactions in the dataset is ______.`': user_article_interactions,\n",
    "    '`The maximum number of user-article interactions by any 1 user is ______.`': max_views_by_user,\n",
    "    '`The most viewed article in the dataset was viewed _____ times.`': max_views,\n",
    "    '`The article_id of the most viewed article is ______.`': most_viewed_article_id,\n",
    "    '`The number of unique articles that have at least 1 rating ______.`': unique_articles,\n",
    "    '`The number of unique users in the dataset is ______`': unique_users,\n",
    "    '`The number of unique articles on the IBM platform`': total_articles\n",
    "}\n",
    "\n",
    "# Test your dictionary against the solution\n",
    "t.sol_1_test(sol_1_dict)"
   ]
  },
  {
   "cell_type": "markdown",
   "metadata": {},
   "source": [
    "### <a class=\"anchor\" id=\"Rank\">Part II: Rank-Based Recommendations</a>\n",
    "\n",
    "Unlike in the earlier lessons, we don't actually have ratings for whether a user liked an article or not.  We only know that a user has interacted with an article.  In these cases, the popularity of an article can really only be based on how often an article was interacted with.\n",
    "\n",
    "`1.` Fill in the function below to return the **n** top articles ordered with most interactions as the top. Test your function using the tests below."
   ]
  },
  {
   "cell_type": "markdown",
   "metadata": {},
   "source": [
    "In the code below, `get_top_articles()` uses the `value_counts()` function on the `'title'` column of the DataFrame `df` to count the interactions for each article title. It then selects the top `'n'` articles based on the highest interaction counts and returns a list of the article titles.\n",
    "\n",
    "Similarly, `get_top_article_ids()` uses the `value_counts()` function on the `'article_id'` column of df to count the interactions for each article ID. It selects the top `'n'` articles based on the highest interaction counts and returns a list of the article IDs."
   ]
  },
  {
   "cell_type": "code",
   "execution_count": 14,
   "metadata": {},
   "outputs": [],
   "source": [
    "def get_top_articles(n, df=df):\n",
    "    '''\n",
    "    INPUT:\n",
    "    n - (int) the number of top articles to return\n",
    "    df - (pandas dataframe) df as defined at the top of the notebook \n",
    "    \n",
    "    OUTPUT:\n",
    "    top_articles - (list) A list of the top 'n' article titles \n",
    "    '''\n",
    "    \n",
    "    top_articles = df['title'].value_counts().head(n).index.tolist()\n",
    "    \n",
    "    # Return the top article titles from df (not df_content)\n",
    "    return top_articles \n",
    "\n",
    "def get_top_article_ids(n, df=df):\n",
    "    '''\n",
    "    INPUT:\n",
    "    n - (int) the number of top articles to return\n",
    "    df - (pandas dataframe) df as defined at the top of the notebook \n",
    "    \n",
    "    OUTPUT:\n",
    "    top_articles - (list) A list of the top 'n' article ids\n",
    "    '''\n",
    "    \n",
    "    top_articles = df['article_id'].value_counts().head(n).index.tolist()\n",
    "    \n",
    "    # Return the top article ids\n",
    "    return top_articles \n"
   ]
  },
  {
   "cell_type": "markdown",
   "metadata": {},
   "source": [
    "Print the top 10 articles by number of interactions and their corresponding article IDs"
   ]
  },
  {
   "cell_type": "code",
   "execution_count": 15,
   "metadata": {},
   "outputs": [
    {
     "name": "stdout",
     "output_type": "stream",
     "text": [
      "['use deep learning for image classification', 'insights from new york car accident reports', 'visualize car data with brunel', 'use xgboost, scikit-learn & ibm watson machine learning apis', 'predicting churn with the spss random tree algorithm', 'healthcare python streaming application demo', 'finding optimal locations of new store using decision optimization', 'apache spark lab, part 1: basic concepts', 'analyze energy consumption in buildings', 'gosales transactions for logistic regression model']\n",
      "[1429.0, 1330.0, 1431.0, 1427.0, 1364.0, 1314.0, 1293.0, 1170.0, 1162.0, 1304.0]\n"
     ]
    }
   ],
   "source": [
    "# Print the top 10 articles by number of interactions and their corresponding article IDs\n",
    "print(get_top_articles(10))\n",
    "print(get_top_article_ids(10))"
   ]
  },
  {
   "cell_type": "code",
   "execution_count": 16,
   "metadata": {},
   "outputs": [
    {
     "name": "stdout",
     "output_type": "stream",
     "text": [
      "Your top_5 looks like the solution list! Nice job.\n",
      "Your top_10 looks like the solution list! Nice job.\n",
      "Your top_20 looks like the solution list! Nice job.\n"
     ]
    }
   ],
   "source": [
    "# Test your function by returning the top 5, 10, and 20 articles\n",
    "top_5 = get_top_articles(5)\n",
    "top_10 = get_top_articles(10)\n",
    "top_20 = get_top_articles(20)\n",
    "\n",
    "# Test each of your three lists from above\n",
    "t.sol_2_test(get_top_articles)"
   ]
  },
  {
   "cell_type": "markdown",
   "metadata": {},
   "source": [
    "### <a class=\"anchor\" id=\"User-User\">Part III: User-User Based Collaborative Filtering</a>\n",
    "\n",
    "\n",
    "`1.` Use the function below to reformat the **df** dataframe to be shaped with users as the rows and articles as the columns.  \n",
    "\n",
    "* Each **user** should only appear in each **row** once.\n",
    "\n",
    "\n",
    "* Each **article** should only show up in one **column**.  \n",
    "\n",
    "\n",
    "* **If a user has interacted with an article, then place a 1 where the user-row meets for that article-column**.  It does not matter how many times a user has interacted with the article, all entries where a user has interacted with an article should be a 1.  \n",
    "\n",
    "\n",
    "* **If a user has not interacted with an item, then place a zero where the user-row meets for that article-column**. \n",
    "\n",
    "Use the tests to make sure the basic structure of your matrix matches what is expected by the solution."
   ]
  },
  {
   "cell_type": "code",
   "execution_count": 17,
   "metadata": {},
   "outputs": [],
   "source": [
    "# Create the user-article matrix with 1's and 0's\n",
    "def create_user_item_matrix(df):\n",
    "    '''\n",
    "    INPUT:\n",
    "    df - pandas dataframe with article_id, title, user_id columns\n",
    "    \n",
    "    OUTPUT:\n",
    "    user_item - user item matrix \n",
    "    \n",
    "    Description:\n",
    "    Return a matrix with user ids as rows and article ids on the columns with 1 values where a user interacted with \n",
    "    an article and a 0 otherwise\n",
    "    '''\n",
    "    user_item = df.groupby(['user_id', 'article_id'])['title'].count().unstack()\n",
    "    user_item = user_item.notnull().astype(int)\n",
    "    \n",
    "    return user_item\n",
    "\n",
    "user_item = create_user_item_matrix(df)"
   ]
  },
  {
   "cell_type": "code",
   "execution_count": 18,
   "metadata": {},
   "outputs": [
    {
     "name": "stdout",
     "output_type": "stream",
     "text": [
      "You have passed our quick tests!  Please proceed!\n"
     ]
    }
   ],
   "source": [
    "## Tests: You should just need to run this cell.  Don't change the code.\n",
    "assert user_item.shape[0] == 5149, \"Oops!  The number of users in the user-article matrix doesn't look right.\"\n",
    "assert user_item.shape[1] == 714, \"Oops!  The number of articles in the user-article matrix doesn't look right.\"\n",
    "assert user_item.sum(axis=1)[1] == 36, \"Oops!  The number of articles seen by user 1 doesn't look right.\"\n",
    "print(\"You have passed our quick tests!  Please proceed!\")"
   ]
  },
  {
   "cell_type": "markdown",
   "metadata": {},
   "source": [
    "`2.` Complete the function below which should take a user_id and provide an ordered list of the most similar users to that user (from most similar to least similar).  The returned result should not contain the provided user_id, as we know that each user is similar to him/herself. Because the results for each user here are binary, it (perhaps) makes sense to compute similarity as the dot product of two users. \n",
    "\n",
    "Use the tests to test your function."
   ]
  },
  {
   "cell_type": "code",
   "execution_count": 19,
   "metadata": {},
   "outputs": [],
   "source": [
    "def find_similar_users(user_id, user_item=user_item):\n",
    "    '''\n",
    "    INPUT:\n",
    "    user_id - (int) a user_id\n",
    "    user_item - (pandas dataframe) matrix of users by articles: \n",
    "                1's when a user has interacted with an article, 0 otherwise\n",
    "    \n",
    "    OUTPUT:\n",
    "    similar_users - (list) an ordered list where the closest users (largest dot product users)\n",
    "                    are listed first\n",
    "    \n",
    "    Description:\n",
    "    Computes the similarity of every pair of users based on the dot product\n",
    "    Returns an ordered list of the most similar users to the provided user_id\n",
    "    '''\n",
    "    # Compute similarity of each user to the provided user\n",
    "    similarity = user_item.dot(user_item.loc[user_id])\n",
    "\n",
    "    # Sort by similarity in descending order\n",
    "    similarity = similarity.sort_values(ascending=False)\n",
    "\n",
    "    # Create a list of user_ids excluding the provided user_id\n",
    "    most_similar_users = similarity.index.tolist()\n",
    "    \n",
    "    # Remove the own user's id\n",
    "    most_similar_users.remove(user_id)\n",
    "\n",
    "    # Return a list of the users in order from most to least similar\n",
    "    return most_similar_users "
   ]
  },
  {
   "cell_type": "code",
   "execution_count": 20,
   "metadata": {},
   "outputs": [
    {
     "name": "stdout",
     "output_type": "stream",
     "text": [
      "The 10 most similar users to user 1 are: [3933, 23, 3782, 203, 4459, 131, 3870, 46, 4201, 5041]\n",
      "The 5 most similar users to user 3933 are: [1, 23, 3782, 4459, 203]\n",
      "The 3 most similar users to user 46 are: [4201, 23, 3782]\n"
     ]
    }
   ],
   "source": [
    "# Do a spot check of your function\n",
    "print(\"The 10 most similar users to user 1 are: {}\".format(find_similar_users(1)[:10]))\n",
    "print(\"The 5 most similar users to user 3933 are: {}\".format(find_similar_users(3933)[:5]))\n",
    "print(\"The 3 most similar users to user 46 are: {}\".format(find_similar_users(46)[:3]))"
   ]
  },
  {
   "cell_type": "markdown",
   "metadata": {},
   "source": [
    "`3.` Now that you have a function that provides the most similar users to each user, you will want to use these users to find articles you can recommend.  Complete the functions below to return the articles you would recommend to each user. "
   ]
  },
  {
   "cell_type": "code",
   "execution_count": 21,
   "metadata": {},
   "outputs": [],
   "source": [
    "def get_article_names(article_ids, df=df):\n",
    "    '''\n",
    "    INPUT:\n",
    "    article_ids - (list) a list of article ids\n",
    "    df - (pandas dataframe) df as defined at the top of the notebook\n",
    "    \n",
    "    OUTPUT:\n",
    "    article_names - (list) a list of article names associated with the list of article ids \n",
    "                    (this is identified by the title column)\n",
    "    '''\n",
    "    article_names = df[df['article_id'].isin(article_ids)]['title'].drop_duplicates().values.tolist()\n",
    "    \n",
    "    return article_names # Return the article names associated with list of article ids\n",
    "\n",
    "\n",
    "def get_user_articles(user_id, user_item=user_item):\n",
    "    '''\n",
    "    INPUT:\n",
    "    user_id - (int) a user id\n",
    "    user_item - (pandas dataframe) matrix of users by articles: \n",
    "                1's when a user has interacted with an article, 0 otherwise\n",
    "    \n",
    "    OUTPUT:\n",
    "    article_ids - (list) a list of the article ids seen by the user\n",
    "    article_names - (list) a list of article names associated with the list of article ids \n",
    "                    (this is identified by the doc_full_name column in df_content)\n",
    "    \n",
    "    Description:\n",
    "    Provides a list of the article_ids and article titles that have been seen by a user\n",
    "    '''\n",
    "    # Retrieving article ids\n",
    "    article_ids = user_item.loc[user_id][user_item.loc[user_id] == 1].index.astype(str).tolist()\n",
    "    \n",
    "    # Retrieving article name\n",
    "    article_names = get_article_names(article_ids)\n",
    "    return article_ids, article_names # return the ids and names\n",
    "\n",
    "\n",
    "def user_user_recs(user_id, m=10):\n",
    "    '''\n",
    "    INPUT:\n",
    "    user_id - (int) a user id\n",
    "    m - (int) the number of recommendations you want for the user\n",
    "    \n",
    "    OUTPUT:\n",
    "    recs - (list) a list of recommendations for the user\n",
    "    \n",
    "    Description:\n",
    "    Loops through the users based on closeness to the input user_id\n",
    "    For each user - finds articles the user hasn't seen before and provides them as recs\n",
    "    Does this until m recommendations are found\n",
    "    \n",
    "    Notes:\n",
    "    Users who are the same closeness are chosen arbitrarily as the 'next' user\n",
    "    \n",
    "    For the user where the number of recommended articles starts below m \n",
    "    and ends exceeding m, the last items are chosen arbitrarily\n",
    "    \n",
    "    '''\n",
    "    # Creating a empty list\n",
    "    recs = []\n",
    "    \n",
    "    # List of the similar users\n",
    "    similar_users = find_similar_users(user_id)\n",
    "    \n",
    "    # Articles seen by the similar users\n",
    "    for user in similar_users:\n",
    "        article_ids, _ = get_user_articles(user)\n",
    "        \n",
    "        # Total recommendation\n",
    "        recs.extend(article_ids)\n",
    "        if len(recs) > (m - 1):\n",
    "            break\n",
    "            \n",
    "    # Only top m recommendations\n",
    "    recs = recs[:m]\n",
    "    \n",
    "    # Return your recommendations for this user_id\n",
    "    return recs \n"
   ]
  },
  {
   "cell_type": "code",
   "execution_count": 22,
   "metadata": {},
   "outputs": [
    {
     "data": {
      "text/plain": [
       "['time series prediction using recurrent neural networks (lstms)',\n",
       " 'deep learning with tensorflow course by big data university',\n",
       " 'tensorflow quick tips',\n",
       " 'sector correlations shiny app',\n",
       " 'new shiny cheat sheet and video tutorial',\n",
       " 'introduction to market basket analysis in\\xa0python',\n",
       " 'tidyverse practice: mapping large european cities',\n",
       " 'fighting gerrymandering: using data science to draw fairer congressional districts',\n",
       " 'python for loops explained (python for data science basics #5)',\n",
       " 'introducing ibm watson studio ']"
      ]
     },
     "execution_count": 22,
     "metadata": {},
     "output_type": "execute_result"
    }
   ],
   "source": [
    "# Check Results\n",
    "get_article_names(user_user_recs(1, 10)) # Return 10 recommendations for user 1\n"
   ]
  },
  {
   "cell_type": "code",
   "execution_count": 23,
   "metadata": {},
   "outputs": [
    {
     "name": "stdout",
     "output_type": "stream",
     "text": [
      "If this is all you see, you passed all of our tests!  Nice job!\n"
     ]
    }
   ],
   "source": [
    "# Test your functions here - No need to change this code - just run this cell\n",
    "assert set(get_article_names(['1024.0', '1176.0', '1305.0', '1314.0', '1422.0', '1427.0'])) == set(['using deep learning to reconstruct high-resolution audio', 'build a python app on the streaming analytics service', 'gosales transactions for naive bayes model', 'healthcare python streaming application demo', 'use r dataframes & ibm watson natural language understanding', 'use xgboost, scikit-learn & ibm watson machine learning apis']), \"Oops! Your the get_article_names function doesn't work quite how we expect.\"\n",
    "assert set(get_article_names(['1320.0', '232.0', '844.0'])) == set(['housing (2015): united states demographic measures','self-service data preparation with ibm data refinery','use the cloudant-spark connector in python notebook']), \"Oops! Your the get_article_names function doesn't work quite how we expect.\"\n",
    "assert set(get_user_articles(20)[0]) == set(['1320.0', '232.0', '844.0'])\n",
    "assert set(get_user_articles(20)[1]) == set(['housing (2015): united states demographic measures', 'self-service data preparation with ibm data refinery','use the cloudant-spark connector in python notebook'])\n",
    "assert set(get_user_articles(2)[0]) == set(['1024.0', '1176.0', '1305.0', '1314.0', '1422.0', '1427.0'])\n",
    "assert set(get_user_articles(2)[1]) == set(['using deep learning to reconstruct high-resolution audio', 'build a python app on the streaming analytics service', 'gosales transactions for naive bayes model', 'healthcare python streaming application demo', 'use r dataframes & ibm watson natural language understanding', 'use xgboost, scikit-learn & ibm watson machine learning apis'])\n",
    "print(\"If this is all you see, you passed all of our tests!  Nice job!\")"
   ]
  },
  {
   "cell_type": "markdown",
   "metadata": {},
   "source": [
    "`4.` Now we are going to improve the consistency of the **user_user_recs** function from above.  \n",
    "\n",
    "* Instead of arbitrarily choosing when we obtain users who are all the same closeness to a given user - choose the users that have the most total article interactions before choosing those with fewer article interactions.\n",
    "\n",
    "\n",
    "* Instead of arbitrarily choosing articles from the user where the number of recommended articles starts below m and ends exceeding m, choose articles with the articles with the most total interactions before choosing those with fewer total interactions. This ranking should be  what would be obtained from the **top_articles** function you wrote earlier."
   ]
  },
  {
   "cell_type": "code",
   "execution_count": 24,
   "metadata": {},
   "outputs": [],
   "source": [
    "def get_top_sorted_users(user_id, df=df, user_item=user_item):\n",
    "    '''\n",
    "    INPUT:\n",
    "    user_id - (int)\n",
    "    df - (pandas dataframe) df as defined at the top of the notebook \n",
    "    user_item - (pandas dataframe) matrix of users by articles: \n",
    "            1's when a user has interacted with an article, 0 otherwise\n",
    "    \n",
    "            \n",
    "    OUTPUT:\n",
    "    neighbors_df - (pandas dataframe) a dataframe with:\n",
    "                    neighbor_id - is a neighbor user_id\n",
    "                    similarity - measure of the similarity of each user to the provided user_id\n",
    "                    num_interactions - the number of articles viewed by the user - if a u\n",
    "                    \n",
    "    Other Details - sort the neighbors_df by the similarity and then by number of interactions where \n",
    "                    highest of each is higher in the dataframe\n",
    "     \n",
    "    '''\n",
    "    # Creating a dataframe\n",
    "    neighbors_df  = pd.DataFrame(columns= ['neighbor_id', 'similarity', 'num_interactions'])\n",
    "    \n",
    "    # Article count\n",
    "    article_count = df.groupby('user_id').count()\n",
    "    \n",
    "    for item in user_item.index.values:\n",
    "        if item != user_id:\n",
    "            neighbor_id = item\n",
    "            \n",
    "            # Similarity value\n",
    "            similarity = user_item[user_item.index == user_id].dot(user_item.loc[item].T).values[0]\n",
    "            \n",
    "            # Number of interactions\n",
    "            num_interactions = user_item.loc[item].values.sum()\n",
    "            \n",
    "            # Storing value\n",
    "            neighbors_df.loc[neighbor_id] = [neighbor_id, similarity, num_interactions]\n",
    "    \n",
    "    neighbors_df['similarity'] = neighbors_df['similarity'].astype('int')\n",
    "    neighbors_df['neighbor_id'] = neighbors_df['neighbor_id'].astype('int')\n",
    "    neighbors_df = neighbors_df.sort_values(by = ['similarity', 'neighbor_id'], ascending = [False, True])\n",
    "\n",
    "    # Return the dataframe specified in the doc_string\n",
    "    return neighbors_df \n",
    "\n",
    "\n",
    "def user_user_recs_part2(user_id, m=10):\n",
    "    '''\n",
    "    INPUT:\n",
    "    user_id - (int) a user id\n",
    "    m - (int) the number of recommendations you want for the user\n",
    "    \n",
    "    OUTPUT:\n",
    "    recs - (list) a list of recommendations for the user by article id\n",
    "    rec_names - (list) a list of recommendations for the user by article title\n",
    "    \n",
    "    Description:\n",
    "    Loops through the users based on closeness to the input user_id\n",
    "    For each user - finds articles the user hasn't seen before and provides them as recs\n",
    "    Does this until m recommendations are found\n",
    "    \n",
    "    Notes:\n",
    "    * Choose the users that have the most total article interactions \n",
    "    before choosing those with fewer article interactions.\n",
    "\n",
    "    * Choose articles with the articles with the most total interactions \n",
    "    before choosing those with fewer total interactions. \n",
    "   \n",
    "    '''\n",
    "    neighbors_df = get_top_sorted_users(user_id)\n",
    "    similar_users = neighbors_df['neighbor_id'].values.tolist()\n",
    "    recs = []\n",
    "\n",
    "    # Given user's article ids which user read\n",
    "    user_article_ids = list(set(get_user_articles(user_id)[0]))\n",
    "    \n",
    "    for neighbor_id in similar_users:\n",
    "        recs.extend(df[df['user_id'] == neighbor_id]['article_id'].values.tolist())\n",
    "    recs = list(set(recs))\n",
    "    \n",
    "    # Selecting articles not seen by user_id\n",
    "    recs = [ x for x in recs if x not in user_article_ids]\n",
    "    \n",
    "    recs_df = df[df.article_id.isin(recs)][['article_id', 'title']].drop_duplicates().head(m)\n",
    "    recs = recs_df['article_id'].values.tolist()\n",
    "    rec_names = recs_df['title'].values.tolist()\n",
    "    \n",
    "    return recs, rec_names"
   ]
  },
  {
   "cell_type": "code",
   "execution_count": 25,
   "metadata": {},
   "outputs": [
    {
     "name": "stdout",
     "output_type": "stream",
     "text": [
      "The article names for user 1 are: ['using pixiedust for fast, flexible, and easier data analysis and experimentation', 'use deep learning for image classification', 'classify tumors with machine learning', 'apache spark lab, part 1: basic concepts', 'access db2 warehouse on cloud and db2 with python', 'visualize car data with brunel', 'use xgboost, scikit-learn & ibm watson machine learning apis', 'putting a human face on machine learning', 'gosales transactions for naive bayes model', 'welcome to pixiedust', 'uci ml repository: chronic kidney disease data set', 'time series prediction using recurrent neural networks (lstms)', 'finding optimal locations of new store using decision optimization', 'jupyter notebook tutorial', 'deep learning with tensorflow course by big data university', 'rapidly build machine learning flows with dsx', 'tensorflow quick tips', 'analyze db2 warehouse on cloud data in rstudio in dsx', 'uci: iris', 'sudoku', 'super fast string matching in python', 'sector correlations shiny app', 'shiny: a data scientist’s best friend', 'new shiny cheat sheet and video tutorial', 'shiny 0.13.0', 'country statistics: life expectancy at birth', 'introduction to market basket analysis in\\xa0python', 'tidyverse practice: mapping large european cities', 'python if statements explained (python for data science basics #4)', 'fighting gerrymandering: using data science to draw fairer congressional districts', 'working with ibm cloud object storage in python', 'categorize urban density', 'working with ibm cloud object storage in r', 'python for loops explained (python for data science basics #5)', 'introducing ibm watson studio ', 'predict loan applicant behavior with tensorflow neural networking']\n",
      "The article names for user 3 are: ['healthcare python streaming application demo', 'use deep learning for image classification', 'visualize data with the matplotlib library', 'timeseries data analysis of iot events by using jupyter notebook', 'visualize car data with brunel', 'apache spark lab, part 3: machine learning', 'welcome to pixiedust', 'insights from new york car accident reports', 'maximize oil company profits', 'apache spark as the new engine of genomics', 'pixieapp for outlier detection', 'graph-based machine learning', 'model bike sharing data with spss', 'analyze precipitation data', 'airbnb data for analytics: amsterdam calendar', 'finding optimal locations of new store using decision optimization', 'quick guide to build a recommendation engine in python', 'deep learning with tensorflow course by big data university', 'country statistics: health expenditures', 'data visualization playbook: telling the data story', 'experience iot with coursera', 'working interactively with rstudio and notebooks in dsx', 'adolescent fertility rate (births per 1,000 women ages 15-19), worldwide', 'tensorflow quick tips', 'modeling energy usage in new york city', 'real-time sentiment analysis of twitter hashtags with spark (+ pixiedust)', 'customer demographics and sales', 'brunel interactive visualizations in jupyter notebooks', 'practical tutorial on random forest and parameter tuning in r', 'how to write the first for loop in r', 'spark 2.1 and job monitoring available in dsx', 'a dynamic duo – inside machine learning – medium', 'machine learning for the enterprise.', 'the power of machine learning in spark', 'a classification problem', 'data visualization: the importance of excluding unnecessary details', 'country statistics: airports', 'total employment, by economic activity (thousands)', '10 data science, machine learning and ai podcasts you must listen to', 'making sense of the bias / variance trade-off in (deep) reinforcement learning']\n",
      "Recommendations for user 1: ['43.0', '109.0', '268.0', '310.0', '329.0', '346.0', '390.0', '494.0', '525.0', '585.0']\n",
      "Recommendations for user 3: ['12.0', '20.0', '29.0', '43.0', '50.0', '62.0', '109.0', '116.0', '120.0', '193.0']\n"
     ]
    }
   ],
   "source": [
    "print(\"The article names for user 1 are: {}\".format(get_user_articles(1)[1]))\n",
    "print(\"The article names for user 3 are: {}\".format(get_user_articles(3)[1]))\n",
    "\n",
    "print(\"Recommendations for user 1: {}\".format(user_user_recs(1)))\n",
    "print(\"Recommendations for user 3: {}\".format(user_user_recs(3)))"
   ]
  },
  {
   "cell_type": "code",
   "execution_count": 26,
   "metadata": {},
   "outputs": [
    {
     "name": "stdout",
     "output_type": "stream",
     "text": [
      "The top 10 recommendations for user 20 are the following article ids:\n",
      "[1430.0, 1314.0, 1429.0, 1338.0, 1276.0, 1432.0, 593.0, 1185.0, 993.0, 14.0]\n",
      "\n",
      "The top 10 recommendations for user 20 are the following article names:\n",
      "['using pixiedust for fast, flexible, and easier data analysis and experimentation', 'healthcare python streaming application demo', 'use deep learning for image classification', 'ml optimization using cognitive assistant', 'deploy your python model as a restful api', 'visualize data with the matplotlib library', 'upload files to ibm data science experience using the command line', 'classify tumors with machine learning', 'configuring the apache spark sql context', 'got zip code data? prep it for analytics. – ibm watson data lab – medium']\n"
     ]
    }
   ],
   "source": [
    "# Quick spot check - don't change this code - just use it to test your functions\n",
    "rec_ids, rec_names = user_user_recs_part2(20, 10)\n",
    "print(\"The top 10 recommendations for user 20 are the following article ids:\")\n",
    "print(rec_ids)\n",
    "print()\n",
    "print(\"The top 10 recommendations for user 20 are the following article names:\")\n",
    "print(rec_names)"
   ]
  },
  {
   "cell_type": "markdown",
   "metadata": {},
   "source": [
    "`5.` Use your functions from above to correctly fill in the solutions to the dictionary below.  Then test your dictionary against the solution.  Provide the code you need to answer each following the comments below."
   ]
  },
  {
   "cell_type": "code",
   "execution_count": 27,
   "metadata": {},
   "outputs": [
    {
     "data": {
      "text/plain": [
       "(3933, 242)"
      ]
     },
     "execution_count": 27,
     "metadata": {},
     "output_type": "execute_result"
    }
   ],
   "source": [
    "### Tests with a dictionary of results\n",
    "\n",
    "# Find the user that is most similar to user 1\n",
    "user1_most_sim = get_top_sorted_users(1).iloc[0].neighbor_id\n",
    "\n",
    "# Find the 10th most similar user to user 131\n",
    "user131_10th_sim = get_top_sorted_users(131).iloc[9].neighbor_id\n",
    "\n",
    "user1_most_sim, user131_10th_sim"
   ]
  },
  {
   "cell_type": "code",
   "execution_count": 28,
   "metadata": {},
   "outputs": [
    {
     "name": "stdout",
     "output_type": "stream",
     "text": [
      "This all looks good!  Nice job!\n"
     ]
    }
   ],
   "source": [
    "## Dictionary Test Here\n",
    "sol_5_dict = {\n",
    "    'The user that is most similar to user 1.': user1_most_sim, \n",
    "    'The user that is the 10th most similar to user 131': user131_10th_sim,\n",
    "}\n",
    "\n",
    "t.sol_5_test(sol_5_dict)"
   ]
  },
  {
   "cell_type": "markdown",
   "metadata": {},
   "source": [
    "`6.` If we were given a new user, which of the above functions would you be able to use to make recommendations?  Explain.  Can you think of a better way we might make recommendations?  Use the cell below to explain a better method for new users."
   ]
  },
  {
   "cell_type": "markdown",
   "metadata": {},
   "source": [
    "**Provide your response here.**\n",
    "\n",
    "The `get_top_sorted_users` function helps us find users who are similar to a new user based on their interactions with articles. It takes into account the number of article interactions each user has. By using this function, we can identify users who have similar interests or preferences as the new user. This information can be valuable for making recommendations to the new user.\n",
    "\n",
    "Then `user_user_recs_part2` function relies on the user-item interactions to make recommendations. However, since the new user doesn't have any interaction history, this function wouldn't be useful for providing recommendations to them.\n",
    "\n",
    "In summary, if we want to provide recommendations to a new user, `get_top_sorted_users` function is more suitable because it helps us find similar users based on their article interactions, allowing us to make recommendations based on the behavior of those similar users."
   ]
  },
  {
   "cell_type": "markdown",
   "metadata": {},
   "source": [
    "`7.` Using your existing functions, provide the top 10 recommended articles you would provide for the a new user below.  You can test your function against our thoughts to make sure we are all on the same page with how we might make a recommendation."
   ]
  },
  {
   "cell_type": "code",
   "execution_count": 29,
   "metadata": {},
   "outputs": [
    {
     "data": {
      "text/plain": [
       "[1429.0,\n",
       " 1330.0,\n",
       " 1431.0,\n",
       " 1427.0,\n",
       " 1364.0,\n",
       " 1314.0,\n",
       " 1293.0,\n",
       " 1170.0,\n",
       " 1162.0,\n",
       " 1304.0]"
      ]
     },
     "execution_count": 29,
     "metadata": {},
     "output_type": "execute_result"
    }
   ],
   "source": [
    "new_user = '0.0'\n",
    "\n",
    "# What would your recommendations be for this new user '0.0'?  As a new user, they have no observed articles.\n",
    "# Provide a list of the top 10 article ids you would give to \n",
    "new_user_recs = get_top_article_ids(10)\n",
    "new_user_recs\n"
   ]
  },
  {
   "cell_type": "code",
   "execution_count": 30,
   "metadata": {},
   "outputs": [
    {
     "name": "stdout",
     "output_type": "stream",
     "text": [
      "That's right! Nice job!\n"
     ]
    }
   ],
   "source": [
    "assert set(str(x) for x in new_user_recs) == set(['1314.0', '1429.0', '1293.0', '1427.0', '1162.0', '1364.0', '1304.0', '1170.0', '1431.0', '1330.0']), \"Oops! It makes sense that in this case we would want to recommend the most popular articles, because we don't know anything about these users.\"\n",
    "\n",
    "print(\"That's right! Nice job!\")"
   ]
  },
  {
   "cell_type": "markdown",
   "metadata": {},
   "source": [
    "### <a class=\"anchor\" id=\"Content-Recs\">Part IV: Content Based Recommendations (EXTRA - NOT REQUIRED)</a>\n",
    "\n",
    "Another method we might use to make recommendations is to perform a ranking of the highest ranked articles associated with some term.  You might consider content to be the **doc_body**, **doc_description**, or **doc_full_name**.  There isn't one way to create a content based recommendation, especially considering that each of these columns hold content related information.  \n",
    "\n",
    "`1.` Use the function body below to create a content based recommender.  Since there isn't one right answer for this recommendation tactic, no test functions are provided.  Feel free to change the function inputs if you decide you want to try a method that requires more input values.  The input values are currently set with one idea in mind that you may use to make content based recommendations.  One additional idea is that you might want to choose the most popular recommendations that meet your 'content criteria', but again, there is a lot of flexibility in how you might make these recommendations.\n",
    "\n",
    "### This part is NOT REQUIRED to pass this project.  However, you may choose to take this on as an extra way to show off your skills."
   ]
  },
  {
   "cell_type": "code",
   "execution_count": 31,
   "metadata": {},
   "outputs": [],
   "source": [
    "def make_content_recs():\n",
    "    '''\n",
    "    INPUT:\n",
    "    \n",
    "    OUTPUT:\n",
    "    \n",
    "    '''"
   ]
  },
  {
   "cell_type": "markdown",
   "metadata": {},
   "source": [
    "`2.` Now that you have put together your content-based recommendation system, use the cell below to write a summary explaining how your content based recommender works.  Do you see any possible improvements that could be made to your function?  Is there anything novel about your content based recommender?\n",
    "\n",
    "### This part is NOT REQUIRED to pass this project.  However, you may choose to take this on as an extra way to show off your skills."
   ]
  },
  {
   "cell_type": "markdown",
   "metadata": {},
   "source": [
    "**Write an explanation of your content based recommendation system here.**"
   ]
  },
  {
   "cell_type": "markdown",
   "metadata": {},
   "source": [
    "`3.` Use your content-recommendation system to make recommendations for the below scenarios based on the comments.  Again no tests are provided here, because there isn't one right answer that could be used to find these content based recommendations.\n",
    "\n",
    "### This part is NOT REQUIRED to pass this project.  However, you may choose to take this on as an extra way to show off your skills."
   ]
  },
  {
   "cell_type": "code",
   "execution_count": 32,
   "metadata": {},
   "outputs": [],
   "source": [
    "# make recommendations for a brand new user\n",
    "\n",
    "\n",
    "# make a recommendations for a user who only has interacted with article id '1427.0'\n",
    "\n"
   ]
  },
  {
   "cell_type": "markdown",
   "metadata": {},
   "source": [
    "### <a class=\"anchor\" id=\"Matrix-Fact\">Part V: Matrix Factorization</a>\n",
    "\n",
    "In this part of the notebook, you will build use matrix factorization to make article recommendations to the users on the IBM Watson Studio platform.\n",
    "\n",
    "`1.` You should have already created a **user_item** matrix above in **question 1** of **Part III** above.  This first question here will just require that you run the cells to get things set up for the rest of **Part V** of the notebook. "
   ]
  },
  {
   "cell_type": "code",
   "execution_count": 33,
   "metadata": {},
   "outputs": [],
   "source": [
    "# Load the matrix here\n",
    "user_item_matrix = pd.read_pickle('user_item_matrix.p')"
   ]
  },
  {
   "cell_type": "code",
   "execution_count": 34,
   "metadata": {},
   "outputs": [
    {
     "data": {
      "text/html": [
       "<div>\n",
       "<style scoped>\n",
       "    .dataframe tbody tr th:only-of-type {\n",
       "        vertical-align: middle;\n",
       "    }\n",
       "\n",
       "    .dataframe tbody tr th {\n",
       "        vertical-align: top;\n",
       "    }\n",
       "\n",
       "    .dataframe thead th {\n",
       "        text-align: right;\n",
       "    }\n",
       "</style>\n",
       "<table border=\"1\" class=\"dataframe\">\n",
       "  <thead>\n",
       "    <tr style=\"text-align: right;\">\n",
       "      <th>article_id</th>\n",
       "      <th>0.0</th>\n",
       "      <th>100.0</th>\n",
       "      <th>1000.0</th>\n",
       "      <th>1004.0</th>\n",
       "      <th>1006.0</th>\n",
       "      <th>1008.0</th>\n",
       "      <th>101.0</th>\n",
       "      <th>1014.0</th>\n",
       "      <th>1015.0</th>\n",
       "      <th>1016.0</th>\n",
       "      <th>...</th>\n",
       "      <th>977.0</th>\n",
       "      <th>98.0</th>\n",
       "      <th>981.0</th>\n",
       "      <th>984.0</th>\n",
       "      <th>985.0</th>\n",
       "      <th>986.0</th>\n",
       "      <th>990.0</th>\n",
       "      <th>993.0</th>\n",
       "      <th>996.0</th>\n",
       "      <th>997.0</th>\n",
       "    </tr>\n",
       "    <tr>\n",
       "      <th>user_id</th>\n",
       "      <th></th>\n",
       "      <th></th>\n",
       "      <th></th>\n",
       "      <th></th>\n",
       "      <th></th>\n",
       "      <th></th>\n",
       "      <th></th>\n",
       "      <th></th>\n",
       "      <th></th>\n",
       "      <th></th>\n",
       "      <th></th>\n",
       "      <th></th>\n",
       "      <th></th>\n",
       "      <th></th>\n",
       "      <th></th>\n",
       "      <th></th>\n",
       "      <th></th>\n",
       "      <th></th>\n",
       "      <th></th>\n",
       "      <th></th>\n",
       "      <th></th>\n",
       "    </tr>\n",
       "  </thead>\n",
       "  <tbody>\n",
       "    <tr>\n",
       "      <th>1</th>\n",
       "      <td>0.0</td>\n",
       "      <td>0.0</td>\n",
       "      <td>0.0</td>\n",
       "      <td>0.0</td>\n",
       "      <td>0.0</td>\n",
       "      <td>0.0</td>\n",
       "      <td>0.0</td>\n",
       "      <td>0.0</td>\n",
       "      <td>0.0</td>\n",
       "      <td>0.0</td>\n",
       "      <td>...</td>\n",
       "      <td>0.0</td>\n",
       "      <td>0.0</td>\n",
       "      <td>1.0</td>\n",
       "      <td>0.0</td>\n",
       "      <td>0.0</td>\n",
       "      <td>0.0</td>\n",
       "      <td>0.0</td>\n",
       "      <td>0.0</td>\n",
       "      <td>0.0</td>\n",
       "      <td>0.0</td>\n",
       "    </tr>\n",
       "    <tr>\n",
       "      <th>2</th>\n",
       "      <td>0.0</td>\n",
       "      <td>0.0</td>\n",
       "      <td>0.0</td>\n",
       "      <td>0.0</td>\n",
       "      <td>0.0</td>\n",
       "      <td>0.0</td>\n",
       "      <td>0.0</td>\n",
       "      <td>0.0</td>\n",
       "      <td>0.0</td>\n",
       "      <td>0.0</td>\n",
       "      <td>...</td>\n",
       "      <td>0.0</td>\n",
       "      <td>0.0</td>\n",
       "      <td>0.0</td>\n",
       "      <td>0.0</td>\n",
       "      <td>0.0</td>\n",
       "      <td>0.0</td>\n",
       "      <td>0.0</td>\n",
       "      <td>0.0</td>\n",
       "      <td>0.0</td>\n",
       "      <td>0.0</td>\n",
       "    </tr>\n",
       "    <tr>\n",
       "      <th>3</th>\n",
       "      <td>0.0</td>\n",
       "      <td>0.0</td>\n",
       "      <td>0.0</td>\n",
       "      <td>0.0</td>\n",
       "      <td>0.0</td>\n",
       "      <td>0.0</td>\n",
       "      <td>0.0</td>\n",
       "      <td>0.0</td>\n",
       "      <td>0.0</td>\n",
       "      <td>0.0</td>\n",
       "      <td>...</td>\n",
       "      <td>1.0</td>\n",
       "      <td>0.0</td>\n",
       "      <td>0.0</td>\n",
       "      <td>0.0</td>\n",
       "      <td>0.0</td>\n",
       "      <td>0.0</td>\n",
       "      <td>0.0</td>\n",
       "      <td>0.0</td>\n",
       "      <td>0.0</td>\n",
       "      <td>0.0</td>\n",
       "    </tr>\n",
       "    <tr>\n",
       "      <th>4</th>\n",
       "      <td>0.0</td>\n",
       "      <td>0.0</td>\n",
       "      <td>0.0</td>\n",
       "      <td>0.0</td>\n",
       "      <td>0.0</td>\n",
       "      <td>0.0</td>\n",
       "      <td>0.0</td>\n",
       "      <td>0.0</td>\n",
       "      <td>0.0</td>\n",
       "      <td>0.0</td>\n",
       "      <td>...</td>\n",
       "      <td>0.0</td>\n",
       "      <td>0.0</td>\n",
       "      <td>0.0</td>\n",
       "      <td>0.0</td>\n",
       "      <td>0.0</td>\n",
       "      <td>0.0</td>\n",
       "      <td>0.0</td>\n",
       "      <td>0.0</td>\n",
       "      <td>0.0</td>\n",
       "      <td>0.0</td>\n",
       "    </tr>\n",
       "    <tr>\n",
       "      <th>5</th>\n",
       "      <td>0.0</td>\n",
       "      <td>0.0</td>\n",
       "      <td>0.0</td>\n",
       "      <td>0.0</td>\n",
       "      <td>0.0</td>\n",
       "      <td>0.0</td>\n",
       "      <td>0.0</td>\n",
       "      <td>0.0</td>\n",
       "      <td>0.0</td>\n",
       "      <td>0.0</td>\n",
       "      <td>...</td>\n",
       "      <td>0.0</td>\n",
       "      <td>0.0</td>\n",
       "      <td>0.0</td>\n",
       "      <td>0.0</td>\n",
       "      <td>0.0</td>\n",
       "      <td>0.0</td>\n",
       "      <td>0.0</td>\n",
       "      <td>0.0</td>\n",
       "      <td>0.0</td>\n",
       "      <td>0.0</td>\n",
       "    </tr>\n",
       "  </tbody>\n",
       "</table>\n",
       "<p>5 rows × 714 columns</p>\n",
       "</div>"
      ],
      "text/plain": [
       "article_id  0.0  100.0  1000.0  1004.0  1006.0  1008.0  101.0  1014.0  1015.0  \\\n",
       "user_id                                                                         \n",
       "1           0.0    0.0     0.0     0.0     0.0     0.0    0.0     0.0     0.0   \n",
       "2           0.0    0.0     0.0     0.0     0.0     0.0    0.0     0.0     0.0   \n",
       "3           0.0    0.0     0.0     0.0     0.0     0.0    0.0     0.0     0.0   \n",
       "4           0.0    0.0     0.0     0.0     0.0     0.0    0.0     0.0     0.0   \n",
       "5           0.0    0.0     0.0     0.0     0.0     0.0    0.0     0.0     0.0   \n",
       "\n",
       "article_id  1016.0  ...    977.0  98.0  981.0  984.0  985.0  986.0  990.0  \\\n",
       "user_id             ...                                                     \n",
       "1              0.0  ...      0.0   0.0    1.0    0.0    0.0    0.0    0.0   \n",
       "2              0.0  ...      0.0   0.0    0.0    0.0    0.0    0.0    0.0   \n",
       "3              0.0  ...      1.0   0.0    0.0    0.0    0.0    0.0    0.0   \n",
       "4              0.0  ...      0.0   0.0    0.0    0.0    0.0    0.0    0.0   \n",
       "5              0.0  ...      0.0   0.0    0.0    0.0    0.0    0.0    0.0   \n",
       "\n",
       "article_id  993.0  996.0  997.0  \n",
       "user_id                          \n",
       "1             0.0    0.0    0.0  \n",
       "2             0.0    0.0    0.0  \n",
       "3             0.0    0.0    0.0  \n",
       "4             0.0    0.0    0.0  \n",
       "5             0.0    0.0    0.0  \n",
       "\n",
       "[5 rows x 714 columns]"
      ]
     },
     "execution_count": 34,
     "metadata": {},
     "output_type": "execute_result"
    }
   ],
   "source": [
    "# Quick look at the matrix\n",
    "user_item_matrix.head()"
   ]
  },
  {
   "cell_type": "markdown",
   "metadata": {},
   "source": [
    "`2.` In this situation, you can use Singular Value Decomposition from [numpy](https://docs.scipy.org/doc/numpy-1.14.0/reference/generated/numpy.linalg.svd.html) on the user-item matrix.  Use the cell to perform SVD, and explain why this is different than in the lesson."
   ]
  },
  {
   "cell_type": "code",
   "execution_count": 35,
   "metadata": {},
   "outputs": [],
   "source": [
    "# Perform SVD on the User-Item Matrix Here\n",
    "# Use the built in to get the three matrices\n",
    "u, s, vt = np.linalg.svd(user_item_matrix)\n"
   ]
  },
  {
   "cell_type": "code",
   "execution_count": 36,
   "metadata": {},
   "outputs": [
    {
     "name": "stdout",
     "output_type": "stream",
     "text": [
      "Matrix U:\n",
      "[[ -4.30899801e-02   8.30671762e-03   2.75704572e-02 ...,  -3.26167651e-04\n",
      "    2.11074146e-05  -5.48710343e-03]\n",
      " [ -1.03765691e-02   1.64771768e-02   6.04781444e-03 ...,   1.74265092e-03\n",
      "    1.50580351e-03  -1.00671019e-03]\n",
      " [ -4.98474594e-02   1.44789670e-03  -1.64960631e-02 ...,   2.91349069e-03\n",
      "    7.04029482e-04   2.10437236e-03]\n",
      " ..., \n",
      " [ -3.22580101e-05  -7.76317124e-05   5.55685276e-05 ...,   9.30981717e-01\n",
      "   -1.39101319e-04  -6.47656557e-04]\n",
      " [ -2.46741942e-03   3.80247363e-03  -4.46702539e-03 ...,  -1.07663799e-04\n",
      "    9.93286310e-01  -4.54103224e-04]\n",
      " [ -4.91946427e-04  -1.00943223e-03   4.99509739e-04 ...,  -3.42372822e-04\n",
      "   -7.29050159e-05   9.68284979e-01]]\n",
      "Diagonal Matrix Σ:\n",
      "[  5.53457037e+01   2.32486418e+01   2.17600228e+01   2.06583341e+01\n",
      "   1.99708867e+01   1.95569462e+01   1.91632342e+01   1.87197508e+01\n",
      "   1.83438615e+01   1.80639261e+01   1.76377686e+01   1.74335474e+01\n",
      "   1.74301733e+01   1.70930876e+01   1.67638529e+01   1.64669871e+01\n",
      "   1.64559512e+01   1.63068949e+01   1.61666030e+01   1.57444047e+01\n",
      "   1.57038805e+01   1.55878977e+01   1.55013389e+01   1.53746023e+01\n",
      "   1.52212789e+01   1.50401111e+01   1.49482365e+01   1.47737529e+01\n",
      "   1.46704332e+01   1.46097896e+01   1.45312074e+01   1.44025711e+01\n",
      "   1.43073643e+01   1.40654598e+01   1.38995696e+01   1.38576259e+01\n",
      "   1.37810084e+01   1.36388289e+01   1.36055830e+01   1.35749215e+01\n",
      "   1.35196309e+01   1.33503810e+01   1.33107854e+01   1.31843779e+01\n",
      "   1.30764996e+01   1.30470484e+01   1.29137238e+01   1.28999043e+01\n",
      "   1.27923679e+01   1.26848013e+01   1.26361984e+01   1.26069082e+01\n",
      "   1.24039390e+01   1.23562882e+01   1.22810586e+01   1.21600337e+01\n",
      "   1.21294028e+01   1.20983395e+01   1.20100229e+01   1.19449827e+01\n",
      "   1.19335388e+01   1.18192562e+01   1.17660208e+01   1.17113450e+01\n",
      "   1.16297027e+01   1.15799753e+01   1.14721374e+01   1.14021968e+01\n",
      "   1.13255385e+01   1.12968801e+01   1.12121296e+01   1.11029330e+01\n",
      "   1.10772469e+01   1.09611247e+01   1.09451910e+01   1.08831594e+01\n",
      "   1.08319400e+01   1.07571231e+01   1.06870041e+01   1.06441857e+01\n",
      "   1.05803518e+01   1.05366876e+01   1.04634654e+01   1.04180469e+01\n",
      "   1.03771561e+01   1.03662447e+01   1.02972427e+01   1.02237610e+01\n",
      "   1.01930571e+01   1.01339378e+01   1.01169304e+01   1.00605483e+01\n",
      "   1.00018886e+01   9.93186806e+00   9.91523152e+00   9.88725887e+00\n",
      "   9.83833681e+00   9.81794312e+00   9.79808989e+00   9.74279916e+00\n",
      "   9.65791949e+00   9.61063591e+00   9.55883047e+00   9.51331520e+00\n",
      "   9.48748290e+00   9.45900984e+00   9.39838850e+00   9.36018902e+00\n",
      "   9.32590972e+00   9.27660547e+00   9.22234450e+00   9.19492811e+00\n",
      "   9.12079895e+00   9.08028506e+00   9.04719849e+00   9.01448607e+00\n",
      "   8.94330252e+00   8.91267694e+00   8.87882780e+00   8.85559026e+00\n",
      "   8.81374437e+00   8.78139555e+00   8.70823928e+00   8.64315751e+00\n",
      "   8.59659084e+00   8.59089274e+00   8.53272777e+00   8.50286441e+00\n",
      "   8.48514063e+00   8.42762658e+00   8.42009926e+00   8.40527042e+00\n",
      "   8.37288303e+00   8.35604403e+00   8.32677986e+00   8.30086653e+00\n",
      "   8.24938269e+00   8.20057355e+00   8.18933771e+00   8.14272125e+00\n",
      "   8.11444934e+00   8.10420578e+00   8.08620432e+00   8.03714827e+00\n",
      "   8.03435923e+00   7.98780703e+00   7.94742524e+00   7.90823847e+00\n",
      "   7.87805786e+00   7.85398957e+00   7.82775774e+00   7.81104366e+00\n",
      "   7.76390298e+00   7.74886149e+00   7.73839798e+00   7.69615259e+00\n",
      "   7.65996085e+00   7.63113016e+00   7.60482040e+00   7.58811574e+00\n",
      "   7.54589770e+00   7.52310211e+00   7.49563792e+00   7.44964803e+00\n",
      "   7.43085513e+00   7.40567789e+00   7.37869555e+00   7.35476941e+00\n",
      "   7.30586187e+00   7.29266284e+00   7.26523271e+00   7.22145211e+00\n",
      "   7.19880747e+00   7.15331558e+00   7.13863328e+00   7.13034140e+00\n",
      "   7.08541261e+00   7.04808650e+00   7.04357453e+00   7.03050132e+00\n",
      "   7.01032763e+00   6.98657129e+00   6.95974054e+00   6.91059037e+00\n",
      "   6.86950831e+00   6.83127731e+00   6.82586163e+00   6.80808512e+00\n",
      "   6.78169211e+00   6.77536696e+00   6.74540883e+00   6.72600536e+00\n",
      "   6.69537884e+00   6.67322552e+00   6.65197879e+00   6.63579835e+00\n",
      "   6.60456904e+00   6.58102192e+00   6.56098147e+00   6.52976231e+00\n",
      "   6.51227257e+00   6.49675351e+00   6.47147417e+00   6.44801276e+00\n",
      "   6.41872750e+00   6.37532316e+00   6.35586647e+00   6.32965091e+00\n",
      "   6.30709431e+00   6.27623526e+00   6.25938849e+00   6.23982897e+00\n",
      "   6.23078247e+00   6.20891126e+00   6.20088452e+00   6.17234111e+00\n",
      "   6.14321030e+00   6.10348533e+00   6.08255754e+00   6.05421974e+00\n",
      "   6.04398767e+00   6.02552069e+00   6.00245107e+00   5.98865778e+00\n",
      "   5.96981173e+00   5.96066667e+00   5.93584006e+00   5.88738844e+00\n",
      "   5.87946429e+00   5.86845213e+00   5.85225619e+00   5.82207158e+00\n",
      "   5.78835052e+00   5.77230349e+00   5.75247863e+00   5.73248156e+00\n",
      "   5.70414494e+00   5.70350083e+00   5.68447651e+00   5.66670739e+00\n",
      "   5.65713461e+00   5.61679181e+00   5.60583162e+00   5.58725591e+00\n",
      "   5.57313212e+00   5.53267945e+00   5.52220473e+00   5.51223540e+00\n",
      "   5.50056731e+00   5.49066387e+00   5.46215406e+00   5.42562817e+00\n",
      "   5.39816863e+00   5.38684198e+00   5.37887548e+00   5.34758543e+00\n",
      "   5.33933318e+00   5.31134464e+00   5.30441619e+00   5.29467028e+00\n",
      "   5.27110936e+00   5.26113856e+00   5.23614647e+00   5.23013414e+00\n",
      "   5.21590406e+00   5.20553050e+00   5.16160064e+00   5.14699168e+00\n",
      "   5.11957090e+00   5.11021148e+00   5.10045361e+00   5.07484324e+00\n",
      "   5.05643010e+00   5.04117683e+00   5.03175203e+00   5.00799720e+00\n",
      "   4.98757351e+00   4.97415479e+00   4.96850526e+00   4.95510476e+00\n",
      "   4.91914825e+00   4.90926126e+00   4.88879760e+00   4.87780406e+00\n",
      "   4.86462924e+00   4.85409363e+00   4.82792553e+00   4.81112468e+00\n",
      "   4.80519464e+00   4.77407754e+00   4.77262582e+00   4.76052276e+00\n",
      "   4.74233756e+00   4.73909899e+00   4.72464868e+00   4.70695590e+00\n",
      "   4.69133076e+00   4.66230409e+00   4.63556566e+00   4.62269159e+00\n",
      "   4.60961205e+00   4.59337688e+00   4.58622380e+00   4.57372843e+00\n",
      "   4.54722829e+00   4.52991503e+00   4.52509516e+00   4.50947617e+00\n",
      "   4.49897278e+00   4.49449383e+00   4.46943058e+00   4.45395221e+00\n",
      "   4.44291146e+00   4.42280618e+00   4.41111791e+00   4.40218052e+00\n",
      "   4.36206135e+00   4.35549651e+00   4.34546507e+00   4.34297454e+00\n",
      "   4.32805340e+00   4.31003682e+00   4.30429999e+00   4.29038786e+00\n",
      "   4.27087575e+00   4.25139418e+00   4.24359271e+00   4.23062900e+00\n",
      "   4.22467891e+00   4.20344923e+00   4.18514808e+00   4.17221161e+00\n",
      "   4.16329502e+00   4.15958969e+00   4.13735636e+00   4.12901197e+00\n",
      "   4.11852107e+00   4.10613561e+00   4.08313378e+00   4.07993926e+00\n",
      "   4.06191178e+00   4.05310105e+00   4.03960883e+00   4.03092237e+00\n",
      "   4.01257079e+00   4.00319049e+00   3.99357696e+00   3.98303572e+00\n",
      "   3.96252519e+00   3.94562253e+00   3.93874338e+00   3.93227174e+00\n",
      "   3.90554164e+00   3.90196940e+00   3.87382484e+00   3.86845387e+00\n",
      "   3.85990642e+00   3.83996220e+00   3.83638866e+00   3.83135703e+00\n",
      "   3.82157806e+00   3.81859624e+00   3.80393146e+00   3.78729611e+00\n",
      "   3.77941994e+00   3.76149598e+00   3.75825720e+00   3.73133267e+00\n",
      "   3.72308854e+00   3.71955067e+00   3.71006940e+00   3.69765827e+00\n",
      "   3.66976594e+00   3.66123420e+00   3.64933183e+00   3.63935763e+00\n",
      "   3.63006856e+00   3.61740170e+00   3.60945254e+00   3.59155064e+00\n",
      "   3.57488301e+00   3.57044582e+00   3.55840236e+00   3.53422815e+00\n",
      "   3.52344797e+00   3.50278593e+00   3.50010535e+00   3.49755759e+00\n",
      "   3.48298876e+00   3.47905220e+00   3.46303567e+00   3.45210778e+00\n",
      "   3.44693045e+00   3.41939036e+00   3.41019313e+00   3.38994417e+00\n",
      "   3.38031958e+00   3.37348726e+00   3.36502994e+00   3.35355995e+00\n",
      "   3.34155440e+00   3.32420230e+00   3.30423719e+00   3.29859320e+00\n",
      "   3.27906363e+00   3.27564600e+00   3.26454825e+00   3.25582792e+00\n",
      "   3.24253348e+00   3.23060930e+00   3.22471924e+00   3.21282005e+00\n",
      "   3.20352919e+00   3.19516318e+00   3.19144412e+00   3.18436050e+00\n",
      "   3.16402966e+00   3.15858376e+00   3.14605093e+00   3.13955409e+00\n",
      "   3.11063288e+00   3.10651061e+00   3.09313055e+00   3.08022823e+00\n",
      "   3.06778768e+00   3.05694322e+00   3.05153813e+00   3.05086745e+00\n",
      "   3.04338916e+00   3.02858899e+00   3.01198157e+00   2.99657852e+00\n",
      "   2.98402312e+00   2.98073257e+00   2.96382273e+00   2.95399643e+00\n",
      "   2.94357687e+00   2.92976181e+00   2.92281231e+00   2.91588583e+00\n",
      "   2.91343448e+00   2.90636535e+00   2.89063390e+00   2.87264247e+00\n",
      "   2.86779118e+00   2.85952610e+00   2.83365704e+00   2.81741778e+00\n",
      "   2.81432389e+00   2.80046069e+00   2.78790133e+00   2.78622139e+00\n",
      "   2.76872382e+00   2.75894203e+00   2.74971815e+00   2.73900358e+00\n",
      "   2.72222412e+00   2.71878522e+00   2.70387523e+00   2.69910111e+00\n",
      "   2.68412441e+00   2.65402752e+00   2.64698577e+00   2.64433340e+00\n",
      "   2.63597647e+00   2.62770090e+00   2.61441733e+00   2.59289681e+00\n",
      "   2.58961932e+00   2.57741018e+00   2.57261016e+00   2.56762542e+00\n",
      "   2.55865031e+00   2.52887544e+00   2.50641338e+00   2.49378477e+00\n",
      "   2.48124464e+00   2.48052049e+00   2.47013378e+00   2.45105230e+00\n",
      "   2.44032568e+00   2.43328763e+00   2.42849630e+00   2.42101957e+00\n",
      "   2.40895291e+00   2.39176455e+00   2.37387972e+00   2.36548317e+00\n",
      "   2.33643789e+00   2.31076457e+00   2.30152967e+00   2.29179930e+00\n",
      "   2.29166856e+00   2.28120204e+00   2.27193089e+00   2.25834323e+00\n",
      "   2.25310784e+00   2.23791393e+00   2.23074938e+00   2.22475822e+00\n",
      "   2.21669665e+00   2.21086883e+00   2.19127974e+00   2.18470277e+00\n",
      "   2.17616391e+00   2.16337382e+00   2.14959926e+00   2.14220931e+00\n",
      "   2.13315549e+00   2.11725659e+00   2.10776972e+00   2.09552989e+00\n",
      "   2.09077554e+00   2.07588643e+00   2.07438003e+00   2.06299073e+00\n",
      "   2.05301240e+00   2.03619233e+00   2.02379345e+00   2.01485936e+00\n",
      "   2.00858207e+00   1.99861610e+00   1.99537789e+00   1.96417523e+00\n",
      "   1.95874234e+00   1.95435504e+00   1.94813566e+00   1.93960031e+00\n",
      "   1.92819813e+00   1.91818728e+00   1.91290383e+00   1.90721084e+00\n",
      "   1.89201878e+00   1.87902208e+00   1.86512209e+00   1.85949693e+00\n",
      "   1.85809402e+00   1.83862972e+00   1.83709038e+00   1.82292300e+00\n",
      "   1.80962973e+00   1.79939288e+00   1.79498641e+00   1.78516123e+00\n",
      "   1.76936451e+00   1.76367540e+00   1.75888313e+00   1.74697359e+00\n",
      "   1.74072011e+00   1.73853051e+00   1.72961438e+00   1.71640328e+00\n",
      "   1.70789308e+00   1.69747501e+00   1.69136455e+00   1.68771024e+00\n",
      "   1.67316665e+00   1.66886095e+00   1.64761890e+00   1.63630945e+00\n",
      "   1.63070917e+00   1.62423427e+00   1.61462495e+00   1.60500711e+00\n",
      "   1.58958746e+00   1.58567210e+00   1.57404822e+00   1.56795054e+00\n",
      "   1.55163340e+00   1.54027459e+00   1.53070874e+00   1.51765625e+00\n",
      "   1.51456650e+00   1.50507953e+00   1.49657495e+00   1.48700541e+00\n",
      "   1.48282660e+00   1.48034701e+00   1.45417472e+00   1.44638689e+00\n",
      "   1.43708481e+00   1.43079690e+00   1.42705387e+00   1.40253243e+00\n",
      "   1.38961745e+00   1.38356917e+00   1.37248825e+00   1.36508086e+00\n",
      "   1.35621822e+00   1.33974671e+00   1.33385383e+00   1.33181740e+00\n",
      "   1.32289038e+00   1.31151825e+00   1.30266774e+00   1.29575171e+00\n",
      "   1.28972572e+00   1.27395791e+00   1.26319111e+00   1.25992490e+00\n",
      "   1.24380681e+00   1.23016975e+00   1.23005940e+00   1.21715372e+00\n",
      "   1.20767744e+00   1.19808258e+00   1.19486895e+00   1.17830756e+00\n",
      "   1.16606520e+00   1.16331107e+00   1.15263219e+00   1.15010409e+00\n",
      "   1.13549495e+00   1.13429860e+00   1.11607200e+00   1.10713485e+00\n",
      "   1.10663241e+00   1.09438820e+00   1.09059946e+00   1.08067651e+00\n",
      "   1.07506271e+00   1.06658024e+00   1.06159999e+00   1.05658342e+00\n",
      "   1.04777664e+00   1.03810761e+00   1.03299165e+00   1.02799203e+00\n",
      "   1.02132735e+00   1.01299848e+00   1.00799704e+00   1.00000000e+00\n",
      "   1.00000000e+00   9.97151293e-01   9.95646653e-01   9.92377954e-01\n",
      "   9.91093970e-01   9.88720232e-01   9.87577772e-01   9.86873498e-01\n",
      "   9.78684152e-01   9.78097749e-01   9.75592917e-01   9.73164909e-01\n",
      "   9.70631406e-01   9.66533661e-01   9.60145188e-01   9.55902675e-01\n",
      "   9.52086327e-01   9.48015987e-01   9.44924709e-01   9.28371887e-01\n",
      "   9.09968959e-01   9.08495993e-01   9.05365913e-01   8.96691589e-01\n",
      "   8.81762234e-01   8.65122835e-01   8.53057696e-01   8.48314426e-01\n",
      "   8.39616121e-01   8.33471361e-01   8.23228199e-01   8.12138781e-01\n",
      "   7.97612585e-01   7.84907175e-01   7.71300265e-01   7.60149739e-01\n",
      "   7.56924159e-01   7.51075704e-01   7.43328867e-01   7.25717885e-01\n",
      "   7.15666246e-01   7.04395015e-01   6.99101196e-01   6.91625676e-01\n",
      "   6.78114990e-01   6.73228217e-01   6.59772497e-01   6.56037259e-01\n",
      "   6.42698362e-01   6.26688782e-01   6.15608898e-01   6.11677828e-01\n",
      "   6.09907904e-01   5.94162404e-01   5.82797981e-01   5.81314355e-01\n",
      "   5.76307450e-01   5.17766691e-01   4.98033321e-01   4.93127928e-01\n",
      "   4.87002388e-01   4.74889484e-01   4.54666156e-01   4.42244880e-01\n",
      "   4.01197648e-01   3.96104245e-01   3.68386761e-01   3.52762180e-01\n",
      "   3.25557926e-01   3.00974784e-01   2.82709464e-01   2.68497243e-01\n",
      "   2.45784298e-14   4.38358974e-15   4.38358974e-15   4.38358974e-15\n",
      "   4.38358974e-15   4.38358974e-15   4.38358974e-15   1.54525966e-15\n",
      "   1.04390003e-15   8.00924253e-16]\n",
      "Matrix V^T:\n",
      "[[ -2.21822365e-03  -1.13697491e-03  -8.25820256e-03 ...,  -7.89214713e-03\n",
      "   -2.78398235e-02  -3.49679488e-04]\n",
      " [  2.07736845e-03   3.86642452e-04   1.51981454e-03 ...,  -1.56120895e-02\n",
      "    9.70825293e-04  -4.30034249e-04]\n",
      " [ -4.32111291e-04   2.46676561e-03   4.28288891e-03 ...,   1.20613591e-02\n",
      "    1.21832171e-02   1.08416259e-03]\n",
      " ..., \n",
      " [  0.00000000e+00   1.15148980e-16   5.57262256e-16 ...,   1.96841788e-16\n",
      "    2.11618196e-17  -3.37117683e-17]\n",
      " [  0.00000000e+00   1.97929403e-16  -1.35488934e-16 ...,   1.76415591e-16\n",
      "    8.43517997e-17   2.16364461e-16]\n",
      " [  0.00000000e+00  -2.02201336e-16   6.68399650e-16 ...,  -1.16769895e-16\n",
      "    3.84837789e-17  -1.82440201e-16]]\n"
     ]
    }
   ],
   "source": [
    "# Preview the matrix U\n",
    "print(\"Matrix U:\")\n",
    "print(u)\n",
    "\n",
    "# Preview the diagonal matrix Σ\n",
    "print(\"Diagonal Matrix Σ:\")\n",
    "print(s)\n",
    "\n",
    "# Preview the matrix V^T\n",
    "print(\"Matrix V^T:\")\n",
    "print(vt)"
   ]
  },
  {
   "cell_type": "markdown",
   "metadata": {},
   "source": [
    "**Provide your response here.**\n",
    "\n",
    "In this case the user-item matrix is a binary matrix, where the entries represent whether a user has interacted with an article or not (1 or 0).\n",
    "\n",
    "Since the user-item matrix in this case is binary and does not contain explicit ratings, SVD cannot directly provide meaningful latent factors based on ratings. However, SVD can still help us identify hidden factors that describe user preferences and article characteristics.\n",
    "\n",
    "By using SVD, we can reduce the complexity of the matrix and find these hidden factors. These factors can then be used to make recommendations by finding users or articles that have similar factor values. This allows us to suggest articles to users based on their preferences and similarities to other users.\n"
   ]
  },
  {
   "cell_type": "markdown",
   "metadata": {},
   "source": [
    "`3.` Now for the tricky part, how do we choose the number of latent features to use?  Running the below cell, you can see that as the number of latent features increases, we obtain a lower error rate on making predictions for the 1 and 0 values in the user-item matrix.  Run the cell below to get an idea of how the accuracy improves as we increase the number of latent features."
   ]
  },
  {
   "cell_type": "code",
   "execution_count": 37,
   "metadata": {},
   "outputs": [
    {
     "data": {
      "image/png": "[encoded data removed]",
      "text/plain": [
       "<matplotlib.figure.Figure at 0x7f75405975c0>"
      ]
     },
     "metadata": {
      "needs_background": "light"
     },
     "output_type": "display_data"
    }
   ],
   "source": [
    "num_latent_feats = np.arange(10,700+10,20)\n",
    "sum_error = []\n",
    "\n",
    "for k in num_latent_feats:\n",
    "    # Restructure with k latent features\n",
    "    s_new, u_new, vt_new = np.diag(s[:k]), u[:, :k], vt[:k, :]\n",
    "    \n",
    "    # Take dot product\n",
    "    user_item_est = np.around(np.dot(np.dot(u_new, s_new), vt_new))\n",
    "    \n",
    "    # Compute error for each prediction to actual value\n",
    "    diffs = np.subtract(user_item_matrix, user_item_est)\n",
    "    \n",
    "    # Total errors and keep track of them\n",
    "    error = np.sum(np.sum(np.abs(diffs)))\n",
    "    sum_error.append(error)\n",
    "    \n",
    "    \n",
    "plt.plot(num_latent_feats, 1 - np.array(sum_error)/df.shape[0]);\n",
    "plt.xlabel('Number of Latent Features');\n",
    "plt.ylabel('Accuracy');\n",
    "plt.title('Accuracy vs. Number of Latent Features');"
   ]
  },
  {
   "cell_type": "markdown",
   "metadata": {},
   "source": [
    "`4.` From the above, we can't really be sure how many features to use, because simply having a better way to predict the 1's and 0's of the matrix doesn't exactly give us an indication of if we are able to make good recommendations.  Instead, we might split our dataset into a training and test set of data, as shown in the cell below.  \n",
    "\n",
    "Use the code from question 3 to understand the impact on accuracy of the training and test sets of data with different numbers of latent features. Using the split below: \n",
    "\n",
    "* How many users can we make predictions for in the test set?  \n",
    "* How many users are we not able to make predictions for because of the cold start problem?\n",
    "* How many articles can we make predictions for in the test set?  \n",
    "* How many articles are we not able to make predictions for because of the cold start problem?"
   ]
  },
  {
   "cell_type": "code",
   "execution_count": 38,
   "metadata": {},
   "outputs": [],
   "source": [
    "df_train = df.head(40000)\n",
    "df_test = df.tail(5993)\n",
    "\n",
    "def create_test_and_train_user_item(df_train, df_test):\n",
    "    '''\n",
    "    INPUT:\n",
    "    df_train - training dataframe\n",
    "    df_test - test dataframe\n",
    "    \n",
    "    OUTPUT:\n",
    "    user_item_train - a user-item matrix of the training dataframe \n",
    "                      (unique users for each row and unique articles for each column)\n",
    "    user_item_test - a user-item matrix of the testing dataframe \n",
    "                    (unique users for each row and unique articles for each column)\n",
    "    test_idx - all of the test user ids\n",
    "    test_arts - all of the test article ids\n",
    "    \n",
    "    '''\n",
    "    # user_item_matrix for training data\n",
    "    user_item_train = create_user_item_matrix(df_train)\n",
    "    # user_item_matrix for testing data\n",
    "    user_item_test = create_user_item_matrix(df_test)\n",
    "    \n",
    "    # user_ids\n",
    "    train_idx = set(user_item_train.index)\n",
    "    test_idx = set(user_item_test.index)\n",
    "    match_idx = list(train_idx.intersection(test_idx))\n",
    "    \n",
    "    # article_ids\n",
    "    train_arts = set(user_item_train.columns)\n",
    "    test_arts =  set(user_item_test.columns)\n",
    "    match_cols = list(train_arts.intersection(test_arts))\n",
    "\n",
    "     \n",
    "    user_item_test = user_item_test.loc[match_idx, match_cols]\n",
    "    \n",
    "    return user_item_train, user_item_test, test_idx, test_arts\n",
    "\n",
    "\n",
    "user_item_train, user_item_test, test_idx, test_arts = create_test_and_train_user_item(df_train, df_test)\n"
   ]
  },
  {
   "cell_type": "code",
   "execution_count": 39,
   "metadata": {},
   "outputs": [
    {
     "data": {
      "text/plain": [
       "(20, 662, 574, 0)"
      ]
     },
     "execution_count": 39,
     "metadata": {},
     "output_type": "execute_result"
    }
   ],
   "source": [
    "# Number of users we can make predictions for in the test set\n",
    "num_users_test = len(np.intersect1d(df_train['user_id'].unique(), df_test['user_id'].unique()))\n",
    "\n",
    "# Number of users we are not able to make predictions for because of the cold start problem\n",
    "num_users_cold_start = len(df_test['user_id'].unique()) - num_users_test\n",
    "\n",
    "# Number of articles we can make predictions for in the test set\n",
    "num_articles_test = len(np.intersect1d(df_train['article_id'].unique(), df_test['article_id'].unique()))\n",
    "\n",
    "# Number of articles we are not able to make predictions for because of the cold start problem\n",
    "num_articles_cold_start = len(df_test['article_id'].unique()) - num_articles_test\n",
    "\n",
    "num_users_test, num_users_cold_start, num_articles_test, num_articles_cold_start\n"
   ]
  },
  {
   "cell_type": "code",
   "execution_count": 40,
   "metadata": {},
   "outputs": [
    {
     "name": "stdout",
     "output_type": "stream",
     "text": [
      "Awesome job!  That's right!  All of the test articles are in the training data, but there are only 20 test users that were also in the training set.  All of the other users that are in the test set we have no data on.  Therefore, we cannot make predictions for these users using SVD.\n"
     ]
    }
   ],
   "source": [
    "# Replace the values in the dictionary below\n",
    "a = 662 \n",
    "b = 574 \n",
    "c = 20 \n",
    "d = 0 \n",
    "\n",
    "\n",
    "sol_4_dict = {\n",
    "    'How many users can we make predictions for in the test set?': c, \n",
    "    'How many users in the test set are we not able to make predictions for because of the cold start problem?': a, \n",
    "    'How many articles can we make predictions for in the test set?': b,\n",
    "    'How many articles in the test set are we not able to make predictions for because of the cold start problem?': d\n",
    "}\n",
    "\n",
    "t.sol_4_test(sol_4_dict)"
   ]
  },
  {
   "cell_type": "markdown",
   "metadata": {},
   "source": [
    "`5.` Now use the **user_item_train** dataset from above to find U, S, and V transpose using SVD. Then find the subset of rows in the **user_item_test** dataset that you can predict using this matrix decomposition with different numbers of latent features to see how many features makes sense to keep based on the accuracy on the test data. This will require combining what was done in questions `2` - `4`.\n",
    "\n",
    "Use the cells below to explore how well SVD works towards making predictions for recommendations on the test data.  "
   ]
  },
  {
   "cell_type": "code",
   "execution_count": 41,
   "metadata": {},
   "outputs": [],
   "source": [
    "# Fit SVD on the user_item_train matrix\n",
    "# Fit svd similar to above then use the cells below\n",
    "u_train, s_train, vt_train = np.linalg.svd(user_item_train)"
   ]
  },
  {
   "cell_type": "code",
   "execution_count": 42,
   "metadata": {},
   "outputs": [],
   "source": [
    "# Use these cells to see how well you can use the training \n",
    "# Decomposition to predict on test data\n",
    "# Select the subset of rows and columns for the test set\n",
    "row_idx = user_item_train.index.isin(test_idx)\n",
    "col_idx = user_item_train.columns.isin(test_arts)\n",
    "u_test = u_train[row_idx, :]\n",
    "vt_test = vt_train[:, col_idx]"
   ]
  },
  {
   "cell_type": "code",
   "execution_count": 43,
   "metadata": {},
   "outputs": [],
   "source": [
    "num_latent_feats = np.arange(10,700+10,20)\n",
    "train_error_sum = []\n",
    "test_error_sum = []\n",
    "total_error = []\n",
    "\n",
    "for k in num_latent_feats:\n",
    "    # Restructure with k latent features\n",
    "    s_train_lat, u_train_lat, vt_train_lat = np.diag(s_train[:k]), u_train[:, :k], vt_train[:k, :]\n",
    "    u_test_lat, vt_test_lat = u_test[:, :k], vt_test[:k, :]\n",
    "    \n",
    "    # Take dot product\n",
    "    user_item_train_preds = np.around(np.dot(np.dot(u_train_lat, s_train_lat), vt_train_lat))\n",
    "    user_item_test_preds = np.around(np.dot(np.dot(u_test_lat, s_train_lat), vt_test_lat))\n",
    "    total_error.append(1 - ((np.sum(user_item_test_preds)+np.sum(np.sum(user_item_test)))/(user_item_test.shape[0]*user_item_test.shape[1])))\n",
    "    \n",
    "    \n",
    "    # Computing difference in prediction value\n",
    "    train_dif = np.subtract(user_item_train, user_item_train_preds)\n",
    "    test_dif = np.subtract(user_item_test, user_item_test_preds)\n",
    "    \n",
    "    # Training and testing error\n",
    "    train_error = np.sum(np.sum(np.abs(train_dif)))\n",
    "    test_error = np.sum(np.sum(np.abs(test_dif)))\n",
    "    \n",
    "    train_error_sum.append(train_error)\n",
    "    test_error_sum.append(test_error)"
   ]
  },
  {
   "cell_type": "code",
   "execution_count": 44,
   "metadata": {},
   "outputs": [
    {
     "data": {
      "image/png": "[encoded data removed]",
      "text/plain": [
       "<matplotlib.figure.Figure at 0x7f75401c8ac8>"
      ]
     },
     "metadata": {
      "needs_background": "light"
     },
     "output_type": "display_data"
    }
   ],
   "source": [
    "plt.figure(figsize=(10, 6))\n",
    "plt.plot(num_latent_feats, 1 - np.array(train_error_sum) / (user_item_train.shape[0] * user_item_train.shape[1]), label='Train')\n",
    "plt.plot(num_latent_feats, 1 - np.array(test_error_sum) / (user_item_test.shape[0] * user_item_test.shape[1]), label='Test')\n",
    "plt.plot(num_latent_feats, total_error, label='Total')\n",
    "plt.xlabel('Number of Latent Features')\n",
    "plt.ylabel('Accuracy')\n",
    "plt.title('Accuracy vs. Number of Latent Features')\n",
    "plt.legend()\n",
    "plt.show()"
   ]
  },
  {
   "cell_type": "markdown",
   "metadata": {
    "collapsed": true
   },
   "source": [
    "`6.` Use the cell below to comment on the results you found in the previous question. Given the circumstances of your results, discuss what you might do to determine if the recommendations you make with any of the above recommendation systems are an improvement to how users currently find articles? "
   ]
  },
  {
   "cell_type": "markdown",
   "metadata": {},
   "source": [
    "**Your response here.**\n",
    "\n",
    "The trend indicates overfitting since more latent features in the model increase accuracy in the training data, but decrease in the test data.\n",
    "\n",
    "Maybe the reason for this beacuse few interactions between users and articles in the dataset, making it difficult for the model to find meaningful patterns. As a result, when we use more latent features, the model more focused on the specific interactions in the training data and fails to generalize to new interactions.\n",
    "\n",
    "To determine if the recommendations above are an improvement over how users currently find articles, we can perform an A/B test with the steps below:\n",
    "\n",
    "1. Randomly select a group of users to participate in the test. This group will use the new recommendation system to find articles.\n",
    "2. Keep another random group of users as a comparison. They will continue using the current method of finding articles.\n",
    "3. Measure and compare how well the two groups perform. We look at things like how often they click on recommended articles, how much time they spend reading those articles, or any other relevant measures of user engagement. \n",
    "\n",
    "By comparing the results, we can determine if the new recommendation system is significantly better than the current method. If the new system performs significantly better, we can conclude that it is an improvement and consider implementing it for all users.\n",
    "\n",
    "It's important to make sure the test is fair and random, collect enough data, and consider any factors that could affect the results. Eventually, the goal is to see if the new recommendations lead to a better user experience and engagement with articles."
   ]
  },
  {
   "cell_type": "markdown",
   "metadata": {
    "collapsed": true
   },
   "source": [
    "<a id='conclusions'></a>\n",
    "### Extras\n",
    "Using your workbook, you could now save your recommendations for each user, develop a class to make new predictions and update your results, and make a flask app to deploy your results.  These tasks are beyond what is required for this project.  However, from what you learned in the lessons, you certainly capable of taking these tasks on to improve upon your work here!\n",
    "\n",
    "\n",
    "## Conclusion\n",
    "\n",
    "> Congratulations!  You have reached the end of the Recommendations with IBM project! \n",
    "\n",
    "> **Tip**: Once you are satisfied with your work here, check over your report to make sure that it is satisfies all the areas of the [rubric](https://review.udacity.com/#!/rubrics/2322/view). You should also probably remove all of the \"Tips\" like this one so that the presentation is as polished as possible.\n",
    "\n",
    "\n",
    "## Directions to Submit\n",
    "\n",
    "> Before you submit your project, you need to create a .html or .pdf version of this notebook in the workspace here. To do that, run the code cell below. If it worked correctly, you should get a return code of 0, and you should see the generated .html file in the workspace directory (click on the orange Jupyter icon in the upper left).\n",
    "\n",
    "> Alternatively, you can download this report as .html via the **File** > **Download as** submenu, and then manually upload it into the workspace directory by clicking on the orange Jupyter icon in the upper left, then using the Upload button.\n",
    "\n",
    "> Once you've done this, you can submit your project by clicking on the \"Submit Project\" button in the lower right here. This will create and submit a zip file with this .ipynb doc and the .html or .pdf version you created. Congratulations! "
   ]
  },
  {
   "cell_type": "code",
   "execution_count": 45,
   "metadata": {},
   "outputs": [
    {
     "data": {
      "text/plain": [
       "0"
      ]
     },
     "execution_count": 45,
     "metadata": {},
     "output_type": "execute_result"
    }
   ],
   "source": [
    "from subprocess import call\n",
    "call(['python', '-m', 'nbconvert', 'Recommendations_with_IBM.ipynb'])"
   ]
  }
 ],
 "metadata": {
  "kernelspec": {
   "display_name": "Python 3",
   "language": "python",
   "name": "python3"
  },
  "language_info": {
   "codemirror_mode": {
    "name": "ipython",
    "version": 3
   },
   "file_extension": ".py",
   "mimetype": "text/x-python",
   "name": "python",
   "nbconvert_exporter": "python",
   "pygments_lexer": "ipython3",
   "version": "3.6.3"
  }
 },
 "nbformat": 4,
 "nbformat_minor": 2
}
